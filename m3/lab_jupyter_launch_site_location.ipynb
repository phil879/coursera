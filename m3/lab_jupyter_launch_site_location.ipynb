{
  "metadata": {
    "kernelspec": {
      "name": "python",
      "display_name": "Python (Pyodide)",
      "language": "python"
    },
    "language_info": {
      "codemirror_mode": {
        "name": "python",
        "version": 3
      },
      "file_extension": ".py",
      "mimetype": "text/x-python",
      "name": "python",
      "nbconvert_exporter": "python",
      "pygments_lexer": "ipython3",
      "version": "3.8"
    },
    "prev_pub_hash": "0f9db842b41c859223722809f8be602f5df9334348bd206b11e3af58c30eb345"
  },
  "nbformat_minor": 4,
  "nbformat": 4,
  "cells": [
    {
      "cell_type": "markdown",
      "source": "<p style=\"text-align:center\">\n    <a href=\"https://skills.network/?utm_medium=Exinfluencer&utm_source=Exinfluencer&utm_content=000026UJ&utm_term=10006555&utm_id=NA-SkillsNetwork-Channel-SkillsNetworkCoursesIBMDS0321ENSkillsNetwork26802033-2022-01-01\" target=\"_blank\">\n    <img src=\"https://cf-courses-data.s3.us.cloud-object-storage.appdomain.cloud/assets/logos/SN_web_lightmode.png\" width=\"200\" alt=\"Skills Network Logo\">\n    </a>\n</p>\n",
      "metadata": {}
    },
    {
      "cell_type": "markdown",
      "source": "# **Hands-on Lab: Interactive Visual Analytics with Folium**\n",
      "metadata": {}
    },
    {
      "cell_type": "markdown",
      "source": "Estimated time needed: **40** minutes\n",
      "metadata": {}
    },
    {
      "cell_type": "markdown",
      "source": "The launch success rate may depend on many factors such as payload mass, orbit type, and so on. It may also depend on the location and proximities of a launch site, i.e., the initial position of rocket trajectories. Finding an optimal location for building a launch site certainly involves many factors and hopefully we could discover some of the factors by analyzing the existing launch site locations.\n",
      "metadata": {}
    },
    {
      "cell_type": "markdown",
      "source": "In the previous exploratory data analysis labs, you have visualized the SpaceX launch dataset using `matplotlib` and `seaborn` and discovered some preliminary correlations between the launch site and success rates. In this lab, you will be performing more interactive visual analytics using `Folium`.\n",
      "metadata": {}
    },
    {
      "cell_type": "markdown",
      "source": "## Objectives\n",
      "metadata": {}
    },
    {
      "cell_type": "markdown",
      "source": "This lab contains the following tasks:\n\n*   **TASK 1:** Mark all launch sites on a map\n*   **TASK 2:** Mark the success/failed launches for each site on the map\n*   **TASK 3:** Calculate the distances between a launch site to its proximities\n\nAfter completed the above tasks, you should be able to find some geographical patterns about launch sites.\n",
      "metadata": {}
    },
    {
      "cell_type": "markdown",
      "source": "Let's first import required Python packages for this lab:\n",
      "metadata": {}
    },
    {
      "cell_type": "code",
      "source": "import piplite\nawait piplite.install(['folium'])\nawait piplite.install(['pandas'])",
      "metadata": {
        "trusted": true
      },
      "outputs": [],
      "execution_count": 1
    },
    {
      "cell_type": "code",
      "source": "import folium\nimport pandas as pd",
      "metadata": {
        "trusted": true
      },
      "outputs": [],
      "execution_count": 2
    },
    {
      "cell_type": "code",
      "source": "# Import folium MarkerCluster plugin\nfrom folium.plugins import MarkerCluster\n# Import folium MousePosition plugin\nfrom folium.plugins import MousePosition\n# Import folium DivIcon plugin\nfrom folium.features import DivIcon",
      "metadata": {
        "trusted": true
      },
      "outputs": [],
      "execution_count": 3
    },
    {
      "cell_type": "markdown",
      "source": "If you need to refresh your memory about folium, you may download and refer to this previous folium lab:\n",
      "metadata": {}
    },
    {
      "cell_type": "markdown",
      "source": "[Generating Maps with Python](https://cf-courses-data.s3.us.cloud-object-storage.appdomain.cloud/IBMDeveloperSkillsNetwork-DV0101EN-SkillsNetwork/labs/v4/DV0101EN-Exercise-Generating-Maps-in-Python.ipynb)\n",
      "metadata": {}
    },
    {
      "cell_type": "code",
      "source": "def save_map(map_):\n    map_.save(\"my_map.html\")",
      "metadata": {
        "trusted": true
      },
      "outputs": [],
      "execution_count": 4
    },
    {
      "cell_type": "code",
      "source": "## Task 1: Mark all launch sites on a map\nnasa_coordinate = [29.559684888503615, -95.0830971930759]\nworld_map = folium.Map(location=nasa_coordinate, zoom_start=5)\n# save_map(world_map)",
      "metadata": {
        "trusted": true
      },
      "outputs": [],
      "execution_count": 5
    },
    {
      "cell_type": "markdown",
      "source": "First, let's try to add each site's location on a map using site's latitude and longitude coordinates\n",
      "metadata": {}
    },
    {
      "cell_type": "markdown",
      "source": "The following dataset with the name `spacex_launch_geo.csv` is an augmented dataset with latitude and longitude added for each site.\n",
      "metadata": {}
    },
    {
      "cell_type": "code",
      "source": "# Download and read the `spacex_launch_geo.csv`\nfrom js import fetch\nimport io\n\nURL = 'https://cf-courses-data.s3.us.cloud-object-storage.appdomain.cloud/IBM-DS0321EN-SkillsNetwork/datasets/spacex_launch_geo.csv'\nresp = await fetch(URL)\nspacex_csv_file = io.BytesIO((await resp.arrayBuffer()).to_py())\nspacex_df=pd.read_csv(spacex_csv_file)",
      "metadata": {
        "trusted": true
      },
      "outputs": [],
      "execution_count": 6
    },
    {
      "cell_type": "markdown",
      "source": "Now, you can take a look at what are the coordinates for each site.\n",
      "metadata": {}
    },
    {
      "cell_type": "code",
      "source": "# Select relevant sub-columns: `Launch Site`, `Lat(Latitude)`, `Long(Longitude)`, `class`\nspacex_df = spacex_df[['Launch Site', 'Lat', 'Long', 'class']]\nlaunch_sites_df = spacex_df.groupby(['Launch Site'], as_index=False).first()\nlaunch_sites_df = launch_sites_df[['Launch Site', 'Lat', 'Long']]\nlaunch_sites_df",
      "metadata": {
        "trusted": true
      },
      "outputs": [
        {
          "execution_count": 7,
          "output_type": "execute_result",
          "data": {
            "text/plain": "    Launch Site        Lat        Long\n0   CCAFS LC-40  28.562302  -80.577356\n1  CCAFS SLC-40  28.563197  -80.576820\n2    KSC LC-39A  28.573255  -80.646895\n3   VAFB SLC-4E  34.632834 -120.610745",
            "text/html": "<div>\n<style scoped>\n    .dataframe tbody tr th:only-of-type {\n        vertical-align: middle;\n    }\n\n    .dataframe tbody tr th {\n        vertical-align: top;\n    }\n\n    .dataframe thead th {\n        text-align: right;\n    }\n</style>\n<table border=\"1\" class=\"dataframe\">\n  <thead>\n    <tr style=\"text-align: right;\">\n      <th></th>\n      <th>Launch Site</th>\n      <th>Lat</th>\n      <th>Long</th>\n    </tr>\n  </thead>\n  <tbody>\n    <tr>\n      <th>0</th>\n      <td>CCAFS LC-40</td>\n      <td>28.562302</td>\n      <td>-80.577356</td>\n    </tr>\n    <tr>\n      <th>1</th>\n      <td>CCAFS SLC-40</td>\n      <td>28.563197</td>\n      <td>-80.576820</td>\n    </tr>\n    <tr>\n      <th>2</th>\n      <td>KSC LC-39A</td>\n      <td>28.573255</td>\n      <td>-80.646895</td>\n    </tr>\n    <tr>\n      <th>3</th>\n      <td>VAFB SLC-4E</td>\n      <td>34.632834</td>\n      <td>-120.610745</td>\n    </tr>\n  </tbody>\n</table>\n</div>"
          },
          "metadata": {}
        }
      ],
      "execution_count": 7
    },
    {
      "cell_type": "markdown",
      "source": "Above coordinates are just plain numbers that can not give you any intuitive insights about where are those launch sites. If you are very good at geography, you can interpret those numbers directly in your mind. If not, that's fine too. Let's visualize those locations by pinning them on a map.\n",
      "metadata": {}
    },
    {
      "cell_type": "markdown",
      "source": "We first need to create a folium `Map` object, with an initial center location to be NASA Johnson Space Center at Houston, Texas.\n",
      "metadata": {}
    },
    {
      "cell_type": "code",
      "source": "# Start location is NASA Johnson Space Center\nnasa_coordinate = [29.559684888503615, -95.0830971930759]\nsite_map = folium.Map(location=nasa_coordinate, zoom_start=10)",
      "metadata": {
        "trusted": true
      },
      "outputs": [],
      "execution_count": 8
    },
    {
      "cell_type": "markdown",
      "source": "We could use `folium.Circle` to add a highlighted circle area with a text label on a specific coordinate. For example,\n",
      "metadata": {}
    },
    {
      "cell_type": "code",
      "source": "# Create a blue circle at NASA Johnson Space Center's coordinate with a popup label showing its name\ncircle = folium.Circle(nasa_coordinate, radius=1000, color='#d35400', popup='NASA Johnson Space Center', fill=True)#.add_child(folium.Popup('NASA Johnson Space Center'))\n# Create a blue circle at NASA Johnson Space Center's coordinate with a icon showing its name\nmarker = folium.map.Marker(\n    nasa_coordinate,\n    # Create an icon as a text label\n    icon=DivIcon(\n        icon_size=(20,20),\n        icon_anchor=(0,0),\n        html='<div style=\"font-size: 12; color:#d35400;\"><b>%s</b></div>' % 'NASA JSC',\n        )\n    )\nsite_map.add_child(circle)\nsite_map.add_child(marker)\nsave_map(site_map)",
      "metadata": {
        "trusted": true
      },
      "outputs": [],
      "execution_count": 9
    },
    {
      "cell_type": "markdown",
      "source": "and you should find a small red circle near the city of Houston and you can zoom-in to see a larger circle.\n",
      "metadata": {}
    },
    {
      "cell_type": "markdown",
      "source": "Now, let's add a circle for each launch site in data frame `launch_sites`\n",
      "metadata": {}
    },
    {
      "cell_type": "markdown",
      "source": "*TODO:*  Create and add `folium.Circle` and `folium.Marker` for each launch site on the site map\n",
      "metadata": {}
    },
    {
      "cell_type": "markdown",
      "source": "An example of folium.Circle:\n",
      "metadata": {}
    },
    {
      "cell_type": "markdown",
      "source": "`folium.Circle(coordinate, radius=1000, color='#000000', fill=True).add_child(folium.Popup(...))`\n",
      "metadata": {}
    },
    {
      "cell_type": "markdown",
      "source": "An example of folium.Marker:\n",
      "metadata": {}
    },
    {
      "cell_type": "markdown",
      "source": "`folium.map.Marker(coordinate, icon=DivIcon(icon_size=(20,20),icon_anchor=(0,0), html='<div style=\"font-size: 12; color:#d35400;\"><b>%s</b></div>' % 'label', ))`\n",
      "metadata": {}
    },
    {
      "cell_type": "code",
      "source": "# Initial the map\nsite_map = folium.Map(location=nasa_coordinate, zoom_start=5)\n# For each launch site, add a Circle object based on its coordinate (Lat, Long) values. In addition, add Launch site name as a popup label\n\nfor lsite, lat, long in launch_sites_df.values:\n    coords = (lat, long)\n    circle = folium.Circle(coords, radius=1000, color='#000000', fill=True, popup=lsite)\n    marker = folium.Marker(coords, icon=DivIcon(icon_size=(20,20),icon_anchor=(0,0), html='<div style=\"font-size: 12; color:#d35400;\"><b>%s</b></div>' % lsite, ))\n    site_map.add_child(circle)\n    site_map.add_child(marker)\nsave_map(site_map)",
      "metadata": {
        "trusted": true
      },
      "outputs": [],
      "execution_count": 10
    },
    {
      "cell_type": "markdown",
      "source": "The generated map with marked launch sites should look similar to the following:\n",
      "metadata": {}
    },
    {
      "cell_type": "markdown",
      "source": "<center>\n    <img src=\"https://cf-courses-data.s3.us.cloud-object-storage.appdomain.cloud/IBM-DS0321EN-SkillsNetwork/labs/module_3/images/launch_site_markers.png\">\n</center>\n",
      "metadata": {}
    },
    {
      "cell_type": "markdown",
      "source": "Now, you can explore the map by zoom-in/out the marked areas\n, and try to answer the following questions:\n\n*   Are all launch sites in proximity to the Equator line?\n*   Are all launch sites in very close proximity to the coast?\n\nAlso please try to explain your findings.\n",
      "metadata": {}
    },
    {
      "cell_type": "code",
      "source": "# Task 2: Mark the success/failed launches for each site on the map",
      "metadata": {
        "trusted": true
      },
      "outputs": [],
      "execution_count": 11
    },
    {
      "cell_type": "markdown",
      "source": "Next, let's try to enhance the map by adding the launch outcomes for each site, and see which sites have high success rates.\nRecall that data frame spacex_df has detailed launch records, and the `class` column indicates if this launch was successful or not\n",
      "metadata": {}
    },
    {
      "cell_type": "code",
      "source": "spacex_df.tail(10)",
      "metadata": {
        "trusted": true
      },
      "outputs": [
        {
          "execution_count": 12,
          "output_type": "execute_result",
          "data": {
            "text/plain": "     Launch Site        Lat       Long  class\n46    KSC LC-39A  28.573255 -80.646895      1\n47    KSC LC-39A  28.573255 -80.646895      1\n48    KSC LC-39A  28.573255 -80.646895      1\n49  CCAFS SLC-40  28.563197 -80.576820      1\n50  CCAFS SLC-40  28.563197 -80.576820      1\n51  CCAFS SLC-40  28.563197 -80.576820      0\n52  CCAFS SLC-40  28.563197 -80.576820      0\n53  CCAFS SLC-40  28.563197 -80.576820      0\n54  CCAFS SLC-40  28.563197 -80.576820      1\n55  CCAFS SLC-40  28.563197 -80.576820      0",
            "text/html": "<div>\n<style scoped>\n    .dataframe tbody tr th:only-of-type {\n        vertical-align: middle;\n    }\n\n    .dataframe tbody tr th {\n        vertical-align: top;\n    }\n\n    .dataframe thead th {\n        text-align: right;\n    }\n</style>\n<table border=\"1\" class=\"dataframe\">\n  <thead>\n    <tr style=\"text-align: right;\">\n      <th></th>\n      <th>Launch Site</th>\n      <th>Lat</th>\n      <th>Long</th>\n      <th>class</th>\n    </tr>\n  </thead>\n  <tbody>\n    <tr>\n      <th>46</th>\n      <td>KSC LC-39A</td>\n      <td>28.573255</td>\n      <td>-80.646895</td>\n      <td>1</td>\n    </tr>\n    <tr>\n      <th>47</th>\n      <td>KSC LC-39A</td>\n      <td>28.573255</td>\n      <td>-80.646895</td>\n      <td>1</td>\n    </tr>\n    <tr>\n      <th>48</th>\n      <td>KSC LC-39A</td>\n      <td>28.573255</td>\n      <td>-80.646895</td>\n      <td>1</td>\n    </tr>\n    <tr>\n      <th>49</th>\n      <td>CCAFS SLC-40</td>\n      <td>28.563197</td>\n      <td>-80.576820</td>\n      <td>1</td>\n    </tr>\n    <tr>\n      <th>50</th>\n      <td>CCAFS SLC-40</td>\n      <td>28.563197</td>\n      <td>-80.576820</td>\n      <td>1</td>\n    </tr>\n    <tr>\n      <th>51</th>\n      <td>CCAFS SLC-40</td>\n      <td>28.563197</td>\n      <td>-80.576820</td>\n      <td>0</td>\n    </tr>\n    <tr>\n      <th>52</th>\n      <td>CCAFS SLC-40</td>\n      <td>28.563197</td>\n      <td>-80.576820</td>\n      <td>0</td>\n    </tr>\n    <tr>\n      <th>53</th>\n      <td>CCAFS SLC-40</td>\n      <td>28.563197</td>\n      <td>-80.576820</td>\n      <td>0</td>\n    </tr>\n    <tr>\n      <th>54</th>\n      <td>CCAFS SLC-40</td>\n      <td>28.563197</td>\n      <td>-80.576820</td>\n      <td>1</td>\n    </tr>\n    <tr>\n      <th>55</th>\n      <td>CCAFS SLC-40</td>\n      <td>28.563197</td>\n      <td>-80.576820</td>\n      <td>0</td>\n    </tr>\n  </tbody>\n</table>\n</div>"
          },
          "metadata": {}
        }
      ],
      "execution_count": 12
    },
    {
      "cell_type": "markdown",
      "source": "Next, let's create markers for all launch records.\nIf a launch was successful `(class=1)`, then we use a green marker and if a launch was failed, we use a red marker `(class=0)`\n",
      "metadata": {}
    },
    {
      "cell_type": "markdown",
      "source": "Note that a launch only happens in one of the four launch sites, which means many launch records will have the exact same coordinate. Marker clusters can be a good way to simplify a map containing many markers having the same coordinate.\n",
      "metadata": {}
    },
    {
      "cell_type": "markdown",
      "source": "Let's first create a `MarkerCluster` object\n",
      "metadata": {}
    },
    {
      "cell_type": "code",
      "source": "marker_cluster = MarkerCluster()",
      "metadata": {
        "trusted": true
      },
      "outputs": [],
      "execution_count": 13
    },
    {
      "cell_type": "markdown",
      "source": "*TODO:* Create a new column in `spacex_df` dataframe called `marker_color` to store the marker colors based on the `class` value\n",
      "metadata": {}
    },
    {
      "cell_type": "code",
      "source": "marker_color = spacex_df['class'].apply(lambda x : 'green' if x == 1 else 'red')\n# Apply a function to check the value of `class` column\n# If class=1, marker_color value will be green\n# If class=0, marker_color value will be red",
      "metadata": {
        "trusted": true
      },
      "outputs": [],
      "execution_count": 14
    },
    {
      "cell_type": "markdown",
      "source": "*TODO:* For each launch result in `spacex_df` data frame, add a `folium.Marker` to `marker_cluster`\n",
      "metadata": {}
    },
    {
      "cell_type": "code",
      "source": "# Add marker_cluster to current site_map\nsite_map.add_child(marker_cluster)\n\n# for each row in spacex_df data frame\n# create a Marker object with its coordinate\n# and customize the Marker's icon property to indicate if this launch was successed or failed, \n# e.g., icon=folium.Icon(color='white', icon_color=row['marker_color']\nfor index, record in spacex_df.iterrows():\n    # TODO: Create and add a Marker cluster to the site map\n    coords = record[1:3]\n    marker = folium.Marker(coords, icon=folium.map.Icon(color=marker_color.iloc[index]))\n    marker_cluster.add_child(marker)\n\nsave_map(site_map)",
      "metadata": {
        "trusted": true
      },
      "outputs": [
        {
          "name": "stderr",
          "text": "/lib/python3.12/site-packages/folium/utilities.py:95: FutureWarning: Series.__getitem__ treating keys as positions is deprecated. In a future version, integer keys will always be treated as labels (consistent with DataFrame behavior). To access a value by position, use `ser.iloc[pos]`\n  coords = (location[0], location[1])\n",
          "output_type": "stream"
        }
      ],
      "execution_count": 15
    },
    {
      "cell_type": "markdown",
      "source": "Your updated map may look like the following screenshots:\n",
      "metadata": {}
    },
    {
      "cell_type": "markdown",
      "source": "<center>\n    <img src=\"https://cf-courses-data.s3.us.cloud-object-storage.appdomain.cloud/IBM-DS0321EN-SkillsNetwork/labs/module_3/images/launch_site_marker_cluster.png\">\n</center>\n",
      "metadata": {}
    },
    {
      "cell_type": "markdown",
      "source": "<center>\n    <img src=\"https://cf-courses-data.s3.us.cloud-object-storage.appdomain.cloud/IBM-DS0321EN-SkillsNetwork/labs/module_3/images/launch_site_marker_cluster_zoomed.png\">\n</center>\n",
      "metadata": {}
    },
    {
      "cell_type": "markdown",
      "source": "From the color-labeled markers in marker clusters, you should be able to easily identify which launch sites have relatively high success rates.\n",
      "metadata": {}
    },
    {
      "cell_type": "code",
      "source": "# TASK 3: Calculate the distances between a launch site to its proximities",
      "metadata": {
        "trusted": true
      },
      "outputs": [],
      "execution_count": 16
    },
    {
      "cell_type": "markdown",
      "source": "Next, we need to explore and analyze the proximities of launch sites.\n",
      "metadata": {}
    },
    {
      "cell_type": "markdown",
      "source": "Let's first add a `MousePosition` on the map to get coordinate for a mouse over a point on the map. As such, while you are exploring the map, you can easily find the coordinates of any points of interests (such as railway)\n",
      "metadata": {}
    },
    {
      "cell_type": "code",
      "source": "# Add Mouse Position to get the coordinate (Lat, Long) for a mouse over on the map\nformatter = \"function(num) {return L.Util.formatNum(num, 5);};\"\nmouse_position = MousePosition(\n    position='topright',\n    separator=' Long: ',\n    empty_string='NaN',\n    lng_first=False,\n    num_digits=20,\n    prefix='Lat:',\n    lat_formatter=formatter,\n    lng_formatter=formatter,\n)\n\nsite_map.add_child(mouse_position)\nsave_map(site_map)",
      "metadata": {
        "trusted": true
      },
      "outputs": [],
      "execution_count": 17
    },
    {
      "cell_type": "markdown",
      "source": "Now zoom in to a launch site and explore its proximity to see if you can easily find any railway, highway, coastline, etc. Move your mouse to these points and mark down their coordinates (shown on the top-left) in order to the distance to the launch site.\n",
      "metadata": {}
    },
    {
      "cell_type": "markdown",
      "source": "Now zoom in to a launch site and explore its proximity to see if you can easily find any railway, highway, coastline, etc. Move your mouse to these points and mark down their coordinates (shown on the top-left) in order to the distance to the launch site.\n",
      "metadata": {}
    },
    {
      "cell_type": "code",
      "source": "from math import sin, cos, sqrt, atan2, radians\n\ndef calculate_distance(lat1, lon1, lat2, lon2):\n    # approximate radius of earth in km\n    R = 6373.0\n\n    lat1 = radians(lat1)\n    lon1 = radians(lon1)\n    lat2 = radians(lat2)\n    lon2 = radians(lon2)\n\n    dlon = lon2 - lon1\n    dlat = lat2 - lat1\n\n    a = sin(dlat / 2)**2 + cos(lat1) * cos(lat2) * sin(dlon / 2)**2\n    c = 2 * atan2(sqrt(a), sqrt(1 - a))\n\n    distance = R * c\n    return distance",
      "metadata": {
        "trusted": true
      },
      "outputs": [],
      "execution_count": 18
    },
    {
      "cell_type": "markdown",
      "source": "*TODO:* Mark down a point on the closest coastline using MousePosition and calculate the distance between the coastline point and the launch site.\n",
      "metadata": {}
    },
    {
      "cell_type": "code",
      "source": "launch_site_lat = launch_sites_df.loc[launch_sites_df['Launch Site'] == 'CCAFS LC-40', 'Lat'].iloc[0]\nlaunch_site_lon = launch_sites_df.loc[launch_sites_df['Launch Site'] == 'CCAFS LC-40', 'Long'].iloc[0]\n\ncoastline_lat = 28.56239\ncoastline_lon = -80.56785",
      "metadata": {
        "trusted": true
      },
      "outputs": [],
      "execution_count": 19
    },
    {
      "cell_type": "code",
      "source": "# find coordinate of the closet coastline\n# e.g.,: Lat: 28.56367  Lon: -80.57163\ndistance_coastline = calculate_distance(launch_site_lat, launch_site_lon, coastline_lat, coastline_lon)",
      "metadata": {
        "trusted": true
      },
      "outputs": [],
      "execution_count": 20
    },
    {
      "cell_type": "code",
      "source": "# Create and add a folium.Marker on your selected closest coastline point on the map\n# Display the distance between coastline point and launch site using the icon property \n# for example\ndistance_marker = folium.Marker(\n   (coastline_lat, coastline_lon),\n   icon=DivIcon(\n       icon_size=(20,20),\n       icon_anchor=(0,0),\n       html='<div style=\"font-size: 12; color:#d35400;\"><b>%s</b></div>' % \"{:10.2f} KM\".format(distance_coastline),\n    )\n)",
      "metadata": {
        "trusted": true
      },
      "outputs": [],
      "execution_count": 21
    },
    {
      "cell_type": "markdown",
      "source": "*TODO:* Draw a `PolyLine` between a launch site to the selected coastline point\n",
      "metadata": {}
    },
    {
      "cell_type": "code",
      "source": "# Create a `folium.PolyLine` object using the coastline coordinates and launch site coordinate\nlines=folium.PolyLine(locations=[(coastline_lat, coastline_lon),(launch_site_lat, launch_site_lon)], weight=1)\nsite_map.add_child(lines)",
      "metadata": {
        "trusted": true
      },
      "outputs": [
        {
          "execution_count": 22,
          "output_type": "execute_result",
          "data": {
            "text/plain": "<folium.folium.Map at 0x56aa610>",
            "text/html": "<div style=\"width:100%;\"><div style=\"position:relative;width:100%;height:0;padding-bottom:60%;\"><span style=\"color:#565656\">Make this Notebook Trusted to load map: File -> Trust Notebook</span><iframe srcdoc=\"&lt;!DOCTYPE html&gt;\n&lt;html&gt;\n&lt;head&gt;\n    \n    &lt;meta http-equiv=&quot;content-type&quot; content=&quot;text/html; charset=UTF-8&quot; /&gt;\n    &lt;script src=&quot;https://cdn.jsdelivr.net/npm/leaflet@1.9.3/dist/leaflet.js&quot;&gt;&lt;/script&gt;\n    &lt;script src=&quot;https://code.jquery.com/jquery-3.7.1.min.js&quot;&gt;&lt;/script&gt;\n    &lt;script src=&quot;https://cdn.jsdelivr.net/npm/bootstrap@5.2.2/dist/js/bootstrap.bundle.min.js&quot;&gt;&lt;/script&gt;\n    &lt;script src=&quot;https://cdnjs.cloudflare.com/ajax/libs/Leaflet.awesome-markers/2.0.2/leaflet.awesome-markers.js&quot;&gt;&lt;/script&gt;\n    &lt;link rel=&quot;stylesheet&quot; href=&quot;https://cdn.jsdelivr.net/npm/leaflet@1.9.3/dist/leaflet.css&quot;/&gt;\n    &lt;link rel=&quot;stylesheet&quot; href=&quot;https://cdn.jsdelivr.net/npm/bootstrap@5.2.2/dist/css/bootstrap.min.css&quot;/&gt;\n    &lt;link rel=&quot;stylesheet&quot; href=&quot;https://netdna.bootstrapcdn.com/bootstrap/3.0.0/css/bootstrap-glyphicons.css&quot;/&gt;\n    &lt;link rel=&quot;stylesheet&quot; href=&quot;https://cdn.jsdelivr.net/npm/@fortawesome/fontawesome-free@6.2.0/css/all.min.css&quot;/&gt;\n    &lt;link rel=&quot;stylesheet&quot; href=&quot;https://cdnjs.cloudflare.com/ajax/libs/Leaflet.awesome-markers/2.0.2/leaflet.awesome-markers.css&quot;/&gt;\n    &lt;link rel=&quot;stylesheet&quot; href=&quot;https://cdn.jsdelivr.net/gh/python-visualization/folium/folium/templates/leaflet.awesome.rotate.min.css&quot;/&gt;\n    \n            &lt;meta name=&quot;viewport&quot; content=&quot;width=device-width,\n                initial-scale=1.0, maximum-scale=1.0, user-scalable=no&quot; /&gt;\n            &lt;style&gt;\n                #map_da7a19f07eeefa8adc10518f6ad956f8 {\n                    position: relative;\n                    width: 100.0%;\n                    height: 100.0%;\n                    left: 0.0%;\n                    top: 0.0%;\n                }\n                .leaflet-container { font-size: 1rem; }\n            &lt;/style&gt;\n\n            &lt;style&gt;html, body {\n                width: 100%;\n                height: 100%;\n                margin: 0;\n                padding: 0;\n            }\n            &lt;/style&gt;\n\n            &lt;style&gt;#map {\n                position:absolute;\n                top:0;\n                bottom:0;\n                right:0;\n                left:0;\n                }\n            &lt;/style&gt;\n\n            &lt;script&gt;\n                L_NO_TOUCH = false;\n                L_DISABLE_3D = false;\n            &lt;/script&gt;\n\n        \n    &lt;script src=&quot;https://cdnjs.cloudflare.com/ajax/libs/leaflet.markercluster/1.1.0/leaflet.markercluster.js&quot;&gt;&lt;/script&gt;\n    &lt;link rel=&quot;stylesheet&quot; href=&quot;https://cdnjs.cloudflare.com/ajax/libs/leaflet.markercluster/1.1.0/MarkerCluster.css&quot;/&gt;\n    &lt;link rel=&quot;stylesheet&quot; href=&quot;https://cdnjs.cloudflare.com/ajax/libs/leaflet.markercluster/1.1.0/MarkerCluster.Default.css&quot;/&gt;\n    &lt;script src=&quot;https://cdn.jsdelivr.net/gh/ardhi/Leaflet.MousePosition/src/L.Control.MousePosition.min.js&quot;&gt;&lt;/script&gt;\n    &lt;link rel=&quot;stylesheet&quot; href=&quot;https://cdn.jsdelivr.net/gh/ardhi/Leaflet.MousePosition/src/L.Control.MousePosition.min.css&quot;/&gt;\n&lt;/head&gt;\n&lt;body&gt;\n    \n    \n            &lt;div class=&quot;folium-map&quot; id=&quot;map_da7a19f07eeefa8adc10518f6ad956f8&quot; &gt;&lt;/div&gt;\n        \n&lt;/body&gt;\n&lt;script&gt;\n    \n    \n            var map_da7a19f07eeefa8adc10518f6ad956f8 = L.map(\n                &quot;map_da7a19f07eeefa8adc10518f6ad956f8&quot;,\n                {\n                    center: [29.559684888503615, -95.0830971930759],\n                    crs: L.CRS.EPSG3857,\n                    ...{\n  &quot;zoom&quot;: 5,\n  &quot;zoomControl&quot;: true,\n  &quot;preferCanvas&quot;: false,\n}\n\n                }\n            );\n\n            \n\n        \n    \n            var tile_layer_09c69e1ab1a731e90d47ebfa6e19c69e = L.tileLayer(\n                &quot;https://tile.openstreetmap.org/{z}/{x}/{y}.png&quot;,\n                {\n  &quot;minZoom&quot;: 0,\n  &quot;maxZoom&quot;: 19,\n  &quot;maxNativeZoom&quot;: 19,\n  &quot;noWrap&quot;: false,\n  &quot;attribution&quot;: &quot;\\u0026copy; \\u003ca href=\\&quot;https://www.openstreetmap.org/copyright\\&quot;\\u003eOpenStreetMap\\u003c/a\\u003e contributors&quot;,\n  &quot;subdomains&quot;: &quot;abc&quot;,\n  &quot;detectRetina&quot;: false,\n  &quot;tms&quot;: false,\n  &quot;opacity&quot;: 1,\n}\n\n            );\n        \n    \n            tile_layer_09c69e1ab1a731e90d47ebfa6e19c69e.addTo(map_da7a19f07eeefa8adc10518f6ad956f8);\n        \n    \n            var circle_9e0f6966e317ca427f200726e59e196c = L.circle(\n                [28.56230197, -80.57735648],\n                {&quot;bubblingMouseEvents&quot;: true, &quot;color&quot;: &quot;#000000&quot;, &quot;dashArray&quot;: null, &quot;dashOffset&quot;: null, &quot;fill&quot;: true, &quot;fillColor&quot;: &quot;#000000&quot;, &quot;fillOpacity&quot;: 0.2, &quot;fillRule&quot;: &quot;evenodd&quot;, &quot;lineCap&quot;: &quot;round&quot;, &quot;lineJoin&quot;: &quot;round&quot;, &quot;opacity&quot;: 1.0, &quot;radius&quot;: 1000, &quot;stroke&quot;: true, &quot;weight&quot;: 3}\n            ).addTo(map_da7a19f07eeefa8adc10518f6ad956f8);\n        \n    \n        var popup_95ac815cfff523ce3144ebc7678aee87 = L.popup({\n  &quot;maxWidth&quot;: &quot;100%&quot;,\n});\n\n        \n            \n                var html_9aacf888e4356a8ad851f529dc7e3bfb = $(`&lt;div id=&quot;html_9aacf888e4356a8ad851f529dc7e3bfb&quot; style=&quot;width: 100.0%; height: 100.0%;&quot;&gt;CCAFS LC-40&lt;/div&gt;`)[0];\n                popup_95ac815cfff523ce3144ebc7678aee87.setContent(html_9aacf888e4356a8ad851f529dc7e3bfb);\n            \n        \n\n        circle_9e0f6966e317ca427f200726e59e196c.bindPopup(popup_95ac815cfff523ce3144ebc7678aee87)\n        ;\n\n        \n    \n    \n            var marker_7a7d80a778996b9ce7fed00ef7084301 = L.marker(\n                [28.56230197, -80.57735648],\n                {\n}\n            ).addTo(map_da7a19f07eeefa8adc10518f6ad956f8);\n        \n    \n            var div_icon_87599db9a0af198cc8b70baaa7ee7d5f = L.divIcon({\n  &quot;html&quot;: &quot;\\u003cdiv style=\\&quot;font-size: 12; color:#d35400;\\&quot;\\u003e\\u003cb\\u003eCCAFS LC-40\\u003c/b\\u003e\\u003c/div\\u003e&quot;,\n  &quot;iconSize&quot;: [20, 20],\n  &quot;iconAnchor&quot;: [0, 0],\n  &quot;className&quot;: &quot;empty&quot;,\n});\n        \n    \n                marker_7a7d80a778996b9ce7fed00ef7084301.setIcon(div_icon_87599db9a0af198cc8b70baaa7ee7d5f);\n            \n    \n            var circle_2877b9a6c5f599911133f263f57154fe = L.circle(\n                [28.56319718, -80.57682003],\n                {&quot;bubblingMouseEvents&quot;: true, &quot;color&quot;: &quot;#000000&quot;, &quot;dashArray&quot;: null, &quot;dashOffset&quot;: null, &quot;fill&quot;: true, &quot;fillColor&quot;: &quot;#000000&quot;, &quot;fillOpacity&quot;: 0.2, &quot;fillRule&quot;: &quot;evenodd&quot;, &quot;lineCap&quot;: &quot;round&quot;, &quot;lineJoin&quot;: &quot;round&quot;, &quot;opacity&quot;: 1.0, &quot;radius&quot;: 1000, &quot;stroke&quot;: true, &quot;weight&quot;: 3}\n            ).addTo(map_da7a19f07eeefa8adc10518f6ad956f8);\n        \n    \n        var popup_cc35ac029bb8d6dfe57857584eba7c1b = L.popup({\n  &quot;maxWidth&quot;: &quot;100%&quot;,\n});\n\n        \n            \n                var html_9fed83f8bdd8c2a0d459cba69182f7ac = $(`&lt;div id=&quot;html_9fed83f8bdd8c2a0d459cba69182f7ac&quot; style=&quot;width: 100.0%; height: 100.0%;&quot;&gt;CCAFS SLC-40&lt;/div&gt;`)[0];\n                popup_cc35ac029bb8d6dfe57857584eba7c1b.setContent(html_9fed83f8bdd8c2a0d459cba69182f7ac);\n            \n        \n\n        circle_2877b9a6c5f599911133f263f57154fe.bindPopup(popup_cc35ac029bb8d6dfe57857584eba7c1b)\n        ;\n\n        \n    \n    \n            var marker_cd3023ea6b2276174bd09759f72dccd2 = L.marker(\n                [28.56319718, -80.57682003],\n                {\n}\n            ).addTo(map_da7a19f07eeefa8adc10518f6ad956f8);\n        \n    \n            var div_icon_8623d0ed3a28601da7fe6faffbe2e052 = L.divIcon({\n  &quot;html&quot;: &quot;\\u003cdiv style=\\&quot;font-size: 12; color:#d35400;\\&quot;\\u003e\\u003cb\\u003eCCAFS SLC-40\\u003c/b\\u003e\\u003c/div\\u003e&quot;,\n  &quot;iconSize&quot;: [20, 20],\n  &quot;iconAnchor&quot;: [0, 0],\n  &quot;className&quot;: &quot;empty&quot;,\n});\n        \n    \n                marker_cd3023ea6b2276174bd09759f72dccd2.setIcon(div_icon_8623d0ed3a28601da7fe6faffbe2e052);\n            \n    \n            var circle_cc692040b5b693c06a95d124c69a2672 = L.circle(\n                [28.57325457, -80.64689529],\n                {&quot;bubblingMouseEvents&quot;: true, &quot;color&quot;: &quot;#000000&quot;, &quot;dashArray&quot;: null, &quot;dashOffset&quot;: null, &quot;fill&quot;: true, &quot;fillColor&quot;: &quot;#000000&quot;, &quot;fillOpacity&quot;: 0.2, &quot;fillRule&quot;: &quot;evenodd&quot;, &quot;lineCap&quot;: &quot;round&quot;, &quot;lineJoin&quot;: &quot;round&quot;, &quot;opacity&quot;: 1.0, &quot;radius&quot;: 1000, &quot;stroke&quot;: true, &quot;weight&quot;: 3}\n            ).addTo(map_da7a19f07eeefa8adc10518f6ad956f8);\n        \n    \n        var popup_6f97a05120bcbd9532db95c3250f772e = L.popup({\n  &quot;maxWidth&quot;: &quot;100%&quot;,\n});\n\n        \n            \n                var html_b4cec38b0080fcb29a6b80b8c66c79c5 = $(`&lt;div id=&quot;html_b4cec38b0080fcb29a6b80b8c66c79c5&quot; style=&quot;width: 100.0%; height: 100.0%;&quot;&gt;KSC LC-39A&lt;/div&gt;`)[0];\n                popup_6f97a05120bcbd9532db95c3250f772e.setContent(html_b4cec38b0080fcb29a6b80b8c66c79c5);\n            \n        \n\n        circle_cc692040b5b693c06a95d124c69a2672.bindPopup(popup_6f97a05120bcbd9532db95c3250f772e)\n        ;\n\n        \n    \n    \n            var marker_47c3673c91b0c9fdbb74a9e2cb9a289c = L.marker(\n                [28.57325457, -80.64689529],\n                {\n}\n            ).addTo(map_da7a19f07eeefa8adc10518f6ad956f8);\n        \n    \n            var div_icon_eebba04a87a67c8248e34aaf3dd53f2f = L.divIcon({\n  &quot;html&quot;: &quot;\\u003cdiv style=\\&quot;font-size: 12; color:#d35400;\\&quot;\\u003e\\u003cb\\u003eKSC LC-39A\\u003c/b\\u003e\\u003c/div\\u003e&quot;,\n  &quot;iconSize&quot;: [20, 20],\n  &quot;iconAnchor&quot;: [0, 0],\n  &quot;className&quot;: &quot;empty&quot;,\n});\n        \n    \n                marker_47c3673c91b0c9fdbb74a9e2cb9a289c.setIcon(div_icon_eebba04a87a67c8248e34aaf3dd53f2f);\n            \n    \n            var circle_8e7860a9d2ccd4527aa08481e68ca1c7 = L.circle(\n                [34.63283416, -120.6107455],\n                {&quot;bubblingMouseEvents&quot;: true, &quot;color&quot;: &quot;#000000&quot;, &quot;dashArray&quot;: null, &quot;dashOffset&quot;: null, &quot;fill&quot;: true, &quot;fillColor&quot;: &quot;#000000&quot;, &quot;fillOpacity&quot;: 0.2, &quot;fillRule&quot;: &quot;evenodd&quot;, &quot;lineCap&quot;: &quot;round&quot;, &quot;lineJoin&quot;: &quot;round&quot;, &quot;opacity&quot;: 1.0, &quot;radius&quot;: 1000, &quot;stroke&quot;: true, &quot;weight&quot;: 3}\n            ).addTo(map_da7a19f07eeefa8adc10518f6ad956f8);\n        \n    \n        var popup_f841f92d48d4c5ca75cbd41bc1e30be0 = L.popup({\n  &quot;maxWidth&quot;: &quot;100%&quot;,\n});\n\n        \n            \n                var html_7423cca3e6db6685502fa55ef4c5c207 = $(`&lt;div id=&quot;html_7423cca3e6db6685502fa55ef4c5c207&quot; style=&quot;width: 100.0%; height: 100.0%;&quot;&gt;VAFB SLC-4E&lt;/div&gt;`)[0];\n                popup_f841f92d48d4c5ca75cbd41bc1e30be0.setContent(html_7423cca3e6db6685502fa55ef4c5c207);\n            \n        \n\n        circle_8e7860a9d2ccd4527aa08481e68ca1c7.bindPopup(popup_f841f92d48d4c5ca75cbd41bc1e30be0)\n        ;\n\n        \n    \n    \n            var marker_c1014388c8469e5579817f243d5a79b0 = L.marker(\n                [34.63283416, -120.6107455],\n                {\n}\n            ).addTo(map_da7a19f07eeefa8adc10518f6ad956f8);\n        \n    \n            var div_icon_85e84f9853ed8c248b637b20aaa9ac20 = L.divIcon({\n  &quot;html&quot;: &quot;\\u003cdiv style=\\&quot;font-size: 12; color:#d35400;\\&quot;\\u003e\\u003cb\\u003eVAFB SLC-4E\\u003c/b\\u003e\\u003c/div\\u003e&quot;,\n  &quot;iconSize&quot;: [20, 20],\n  &quot;iconAnchor&quot;: [0, 0],\n  &quot;className&quot;: &quot;empty&quot;,\n});\n        \n    \n                marker_c1014388c8469e5579817f243d5a79b0.setIcon(div_icon_85e84f9853ed8c248b637b20aaa9ac20);\n            \n    \n            tile_layer_09c69e1ab1a731e90d47ebfa6e19c69e.addTo(map_da7a19f07eeefa8adc10518f6ad956f8);\n        \n    \n                marker_7a7d80a778996b9ce7fed00ef7084301.setIcon(div_icon_87599db9a0af198cc8b70baaa7ee7d5f);\n            \n    \n                marker_cd3023ea6b2276174bd09759f72dccd2.setIcon(div_icon_8623d0ed3a28601da7fe6faffbe2e052);\n            \n    \n                marker_47c3673c91b0c9fdbb74a9e2cb9a289c.setIcon(div_icon_eebba04a87a67c8248e34aaf3dd53f2f);\n            \n    \n                marker_c1014388c8469e5579817f243d5a79b0.setIcon(div_icon_85e84f9853ed8c248b637b20aaa9ac20);\n            \n    \n            var marker_cluster_1763e4b37d50db457f6d18578890cac3 = L.markerClusterGroup(\n                {\n}\n            );\n        \n    \n            var marker_177ca63334d11e9a825099b44a1acba5 = L.marker(\n                [28.56230197, -80.57735648],\n                {\n}\n            ).addTo(marker_cluster_1763e4b37d50db457f6d18578890cac3);\n        \n    \n            var icon_e9dc2a0a14f12f2aed58658a03ef4042 = L.AwesomeMarkers.icon(\n                {\n  &quot;markerColor&quot;: &quot;red&quot;,\n  &quot;iconColor&quot;: &quot;white&quot;,\n  &quot;icon&quot;: &quot;info-sign&quot;,\n  &quot;prefix&quot;: &quot;glyphicon&quot;,\n  &quot;extraClasses&quot;: &quot;fa-rotate-0&quot;,\n}\n            );\n        \n    \n                marker_177ca63334d11e9a825099b44a1acba5.setIcon(icon_e9dc2a0a14f12f2aed58658a03ef4042);\n            \n    \n            var marker_f9cb2b718f1fed5dd8a2203149cd5bd7 = L.marker(\n                [28.56230197, -80.57735648],\n                {\n}\n            ).addTo(marker_cluster_1763e4b37d50db457f6d18578890cac3);\n        \n    \n            var icon_614428cf4207ea8afbde864da505445c = L.AwesomeMarkers.icon(\n                {\n  &quot;markerColor&quot;: &quot;red&quot;,\n  &quot;iconColor&quot;: &quot;white&quot;,\n  &quot;icon&quot;: &quot;info-sign&quot;,\n  &quot;prefix&quot;: &quot;glyphicon&quot;,\n  &quot;extraClasses&quot;: &quot;fa-rotate-0&quot;,\n}\n            );\n        \n    \n                marker_f9cb2b718f1fed5dd8a2203149cd5bd7.setIcon(icon_614428cf4207ea8afbde864da505445c);\n            \n    \n            var marker_816659a40eeb479d81cb04b4519dceba = L.marker(\n                [28.56230197, -80.57735648],\n                {\n}\n            ).addTo(marker_cluster_1763e4b37d50db457f6d18578890cac3);\n        \n    \n            var icon_358605a975b8246b298908841b4a162c = L.AwesomeMarkers.icon(\n                {\n  &quot;markerColor&quot;: &quot;red&quot;,\n  &quot;iconColor&quot;: &quot;white&quot;,\n  &quot;icon&quot;: &quot;info-sign&quot;,\n  &quot;prefix&quot;: &quot;glyphicon&quot;,\n  &quot;extraClasses&quot;: &quot;fa-rotate-0&quot;,\n}\n            );\n        \n    \n                marker_816659a40eeb479d81cb04b4519dceba.setIcon(icon_358605a975b8246b298908841b4a162c);\n            \n    \n            var marker_f452a5e0da43f9bee99e8843b73df3ba = L.marker(\n                [28.56230197, -80.57735648],\n                {\n}\n            ).addTo(marker_cluster_1763e4b37d50db457f6d18578890cac3);\n        \n    \n            var icon_7127ac011f998731cedcdd1fe99e4ffe = L.AwesomeMarkers.icon(\n                {\n  &quot;markerColor&quot;: &quot;red&quot;,\n  &quot;iconColor&quot;: &quot;white&quot;,\n  &quot;icon&quot;: &quot;info-sign&quot;,\n  &quot;prefix&quot;: &quot;glyphicon&quot;,\n  &quot;extraClasses&quot;: &quot;fa-rotate-0&quot;,\n}\n            );\n        \n    \n                marker_f452a5e0da43f9bee99e8843b73df3ba.setIcon(icon_7127ac011f998731cedcdd1fe99e4ffe);\n            \n    \n            var marker_ee2ad5bb2f3889d136b0c96d169cd10c = L.marker(\n                [28.56230197, -80.57735648],\n                {\n}\n            ).addTo(marker_cluster_1763e4b37d50db457f6d18578890cac3);\n        \n    \n            var icon_87ae4bdb867c8953819af802a17f51c7 = L.AwesomeMarkers.icon(\n                {\n  &quot;markerColor&quot;: &quot;red&quot;,\n  &quot;iconColor&quot;: &quot;white&quot;,\n  &quot;icon&quot;: &quot;info-sign&quot;,\n  &quot;prefix&quot;: &quot;glyphicon&quot;,\n  &quot;extraClasses&quot;: &quot;fa-rotate-0&quot;,\n}\n            );\n        \n    \n                marker_ee2ad5bb2f3889d136b0c96d169cd10c.setIcon(icon_87ae4bdb867c8953819af802a17f51c7);\n            \n    \n            var marker_5c9f34df1cea79d42247325db90296c9 = L.marker(\n                [28.56230197, -80.57735648],\n                {\n}\n            ).addTo(marker_cluster_1763e4b37d50db457f6d18578890cac3);\n        \n    \n            var icon_a768fb7f3d9ff0793315962332742a67 = L.AwesomeMarkers.icon(\n                {\n  &quot;markerColor&quot;: &quot;red&quot;,\n  &quot;iconColor&quot;: &quot;white&quot;,\n  &quot;icon&quot;: &quot;info-sign&quot;,\n  &quot;prefix&quot;: &quot;glyphicon&quot;,\n  &quot;extraClasses&quot;: &quot;fa-rotate-0&quot;,\n}\n            );\n        \n    \n                marker_5c9f34df1cea79d42247325db90296c9.setIcon(icon_a768fb7f3d9ff0793315962332742a67);\n            \n    \n            var marker_93557e07f48c2251d38a69dc1b171e4a = L.marker(\n                [28.56230197, -80.57735648],\n                {\n}\n            ).addTo(marker_cluster_1763e4b37d50db457f6d18578890cac3);\n        \n    \n            var icon_06bd210398ab63b7fc4a76f5c461b525 = L.AwesomeMarkers.icon(\n                {\n  &quot;markerColor&quot;: &quot;red&quot;,\n  &quot;iconColor&quot;: &quot;white&quot;,\n  &quot;icon&quot;: &quot;info-sign&quot;,\n  &quot;prefix&quot;: &quot;glyphicon&quot;,\n  &quot;extraClasses&quot;: &quot;fa-rotate-0&quot;,\n}\n            );\n        \n    \n                marker_93557e07f48c2251d38a69dc1b171e4a.setIcon(icon_06bd210398ab63b7fc4a76f5c461b525);\n            \n    \n            var marker_6116d92e96a2e6250d67f34c315d0f21 = L.marker(\n                [28.56230197, -80.57735648],\n                {\n}\n            ).addTo(marker_cluster_1763e4b37d50db457f6d18578890cac3);\n        \n    \n            var icon_afe2af9645b5b8c6a00a4102158a51c6 = L.AwesomeMarkers.icon(\n                {\n  &quot;markerColor&quot;: &quot;red&quot;,\n  &quot;iconColor&quot;: &quot;white&quot;,\n  &quot;icon&quot;: &quot;info-sign&quot;,\n  &quot;prefix&quot;: &quot;glyphicon&quot;,\n  &quot;extraClasses&quot;: &quot;fa-rotate-0&quot;,\n}\n            );\n        \n    \n                marker_6116d92e96a2e6250d67f34c315d0f21.setIcon(icon_afe2af9645b5b8c6a00a4102158a51c6);\n            \n    \n            var marker_336cc20cb318e77f1b111096f155519e = L.marker(\n                [28.56230197, -80.57735648],\n                {\n}\n            ).addTo(marker_cluster_1763e4b37d50db457f6d18578890cac3);\n        \n    \n            var icon_8b9b47ca171ca2fdac5fc4ce19cedac8 = L.AwesomeMarkers.icon(\n                {\n  &quot;markerColor&quot;: &quot;red&quot;,\n  &quot;iconColor&quot;: &quot;white&quot;,\n  &quot;icon&quot;: &quot;info-sign&quot;,\n  &quot;prefix&quot;: &quot;glyphicon&quot;,\n  &quot;extraClasses&quot;: &quot;fa-rotate-0&quot;,\n}\n            );\n        \n    \n                marker_336cc20cb318e77f1b111096f155519e.setIcon(icon_8b9b47ca171ca2fdac5fc4ce19cedac8);\n            \n    \n            var marker_13bd5fe755240e414149ddc3a73559b0 = L.marker(\n                [28.56230197, -80.57735648],\n                {\n}\n            ).addTo(marker_cluster_1763e4b37d50db457f6d18578890cac3);\n        \n    \n            var icon_1e8e4dc0ff6a34303eabdbe64357fa1c = L.AwesomeMarkers.icon(\n                {\n  &quot;markerColor&quot;: &quot;red&quot;,\n  &quot;iconColor&quot;: &quot;white&quot;,\n  &quot;icon&quot;: &quot;info-sign&quot;,\n  &quot;prefix&quot;: &quot;glyphicon&quot;,\n  &quot;extraClasses&quot;: &quot;fa-rotate-0&quot;,\n}\n            );\n        \n    \n                marker_13bd5fe755240e414149ddc3a73559b0.setIcon(icon_1e8e4dc0ff6a34303eabdbe64357fa1c);\n            \n    \n            var marker_b0a21ff139eb3c0444dc8c9f5faf230f = L.marker(\n                [28.56230197, -80.57735648],\n                {\n}\n            ).addTo(marker_cluster_1763e4b37d50db457f6d18578890cac3);\n        \n    \n            var icon_f232583a7aa4321d0e702c5b9969cc4e = L.AwesomeMarkers.icon(\n                {\n  &quot;markerColor&quot;: &quot;red&quot;,\n  &quot;iconColor&quot;: &quot;white&quot;,\n  &quot;icon&quot;: &quot;info-sign&quot;,\n  &quot;prefix&quot;: &quot;glyphicon&quot;,\n  &quot;extraClasses&quot;: &quot;fa-rotate-0&quot;,\n}\n            );\n        \n    \n                marker_b0a21ff139eb3c0444dc8c9f5faf230f.setIcon(icon_f232583a7aa4321d0e702c5b9969cc4e);\n            \n    \n            var marker_4dbf202c1f93a03b6ad1c728b3e82075 = L.marker(\n                [28.56230197, -80.57735648],\n                {\n}\n            ).addTo(marker_cluster_1763e4b37d50db457f6d18578890cac3);\n        \n    \n            var icon_fe2db8aabdef4fddd2e816c9215b8926 = L.AwesomeMarkers.icon(\n                {\n  &quot;markerColor&quot;: &quot;red&quot;,\n  &quot;iconColor&quot;: &quot;white&quot;,\n  &quot;icon&quot;: &quot;info-sign&quot;,\n  &quot;prefix&quot;: &quot;glyphicon&quot;,\n  &quot;extraClasses&quot;: &quot;fa-rotate-0&quot;,\n}\n            );\n        \n    \n                marker_4dbf202c1f93a03b6ad1c728b3e82075.setIcon(icon_fe2db8aabdef4fddd2e816c9215b8926);\n            \n    \n            var marker_9aef6020941b8e2650043fd654f16e8f = L.marker(\n                [28.56230197, -80.57735648],\n                {\n}\n            ).addTo(marker_cluster_1763e4b37d50db457f6d18578890cac3);\n        \n    \n            var icon_858ab47dc8cce260cb981daa9a96ee91 = L.AwesomeMarkers.icon(\n                {\n  &quot;markerColor&quot;: &quot;red&quot;,\n  &quot;iconColor&quot;: &quot;white&quot;,\n  &quot;icon&quot;: &quot;info-sign&quot;,\n  &quot;prefix&quot;: &quot;glyphicon&quot;,\n  &quot;extraClasses&quot;: &quot;fa-rotate-0&quot;,\n}\n            );\n        \n    \n                marker_9aef6020941b8e2650043fd654f16e8f.setIcon(icon_858ab47dc8cce260cb981daa9a96ee91);\n            \n    \n            var marker_67e9d1ed793357b82b196416ff71c4f2 = L.marker(\n                [28.56230197, -80.57735648],\n                {\n}\n            ).addTo(marker_cluster_1763e4b37d50db457f6d18578890cac3);\n        \n    \n            var icon_3a9330cffaca49c818c19a794fedc424 = L.AwesomeMarkers.icon(\n                {\n  &quot;markerColor&quot;: &quot;red&quot;,\n  &quot;iconColor&quot;: &quot;white&quot;,\n  &quot;icon&quot;: &quot;info-sign&quot;,\n  &quot;prefix&quot;: &quot;glyphicon&quot;,\n  &quot;extraClasses&quot;: &quot;fa-rotate-0&quot;,\n}\n            );\n        \n    \n                marker_67e9d1ed793357b82b196416ff71c4f2.setIcon(icon_3a9330cffaca49c818c19a794fedc424);\n            \n    \n            var marker_bd54f1e0d9c0fe322ad05916754374f0 = L.marker(\n                [28.56230197, -80.57735648],\n                {\n}\n            ).addTo(marker_cluster_1763e4b37d50db457f6d18578890cac3);\n        \n    \n            var icon_5aa4e3b58b92a103409f099bb3a7f291 = L.AwesomeMarkers.icon(\n                {\n  &quot;markerColor&quot;: &quot;red&quot;,\n  &quot;iconColor&quot;: &quot;white&quot;,\n  &quot;icon&quot;: &quot;info-sign&quot;,\n  &quot;prefix&quot;: &quot;glyphicon&quot;,\n  &quot;extraClasses&quot;: &quot;fa-rotate-0&quot;,\n}\n            );\n        \n    \n                marker_bd54f1e0d9c0fe322ad05916754374f0.setIcon(icon_5aa4e3b58b92a103409f099bb3a7f291);\n            \n    \n            var marker_033650627cd7494489dc8484d88a6ed9 = L.marker(\n                [28.56230197, -80.57735648],\n                {\n}\n            ).addTo(marker_cluster_1763e4b37d50db457f6d18578890cac3);\n        \n    \n            var icon_6fee3ce6e204be0b806e6ffe47c1a9d0 = L.AwesomeMarkers.icon(\n                {\n  &quot;markerColor&quot;: &quot;red&quot;,\n  &quot;iconColor&quot;: &quot;white&quot;,\n  &quot;icon&quot;: &quot;info-sign&quot;,\n  &quot;prefix&quot;: &quot;glyphicon&quot;,\n  &quot;extraClasses&quot;: &quot;fa-rotate-0&quot;,\n}\n            );\n        \n    \n                marker_033650627cd7494489dc8484d88a6ed9.setIcon(icon_6fee3ce6e204be0b806e6ffe47c1a9d0);\n            \n    \n            var marker_5513c4d5c6c23f0bc309cfbb500eccfb = L.marker(\n                [28.56230197, -80.57735648],\n                {\n}\n            ).addTo(marker_cluster_1763e4b37d50db457f6d18578890cac3);\n        \n    \n            var icon_3129915479e093c7be493fb51e83ddb3 = L.AwesomeMarkers.icon(\n                {\n  &quot;markerColor&quot;: &quot;red&quot;,\n  &quot;iconColor&quot;: &quot;white&quot;,\n  &quot;icon&quot;: &quot;info-sign&quot;,\n  &quot;prefix&quot;: &quot;glyphicon&quot;,\n  &quot;extraClasses&quot;: &quot;fa-rotate-0&quot;,\n}\n            );\n        \n    \n                marker_5513c4d5c6c23f0bc309cfbb500eccfb.setIcon(icon_3129915479e093c7be493fb51e83ddb3);\n            \n    \n            var marker_4a17ae47130d818ae82e0db6f50dc1ec = L.marker(\n                [28.56230197, -80.57735648],\n                {\n}\n            ).addTo(marker_cluster_1763e4b37d50db457f6d18578890cac3);\n        \n    \n            var icon_f15a8ec1a4273e22c401da64ef302eb4 = L.AwesomeMarkers.icon(\n                {\n  &quot;markerColor&quot;: &quot;green&quot;,\n  &quot;iconColor&quot;: &quot;white&quot;,\n  &quot;icon&quot;: &quot;info-sign&quot;,\n  &quot;prefix&quot;: &quot;glyphicon&quot;,\n  &quot;extraClasses&quot;: &quot;fa-rotate-0&quot;,\n}\n            );\n        \n    \n                marker_4a17ae47130d818ae82e0db6f50dc1ec.setIcon(icon_f15a8ec1a4273e22c401da64ef302eb4);\n            \n    \n            var marker_1cd72407ec9fc1208577aa8aef2ebab4 = L.marker(\n                [28.56230197, -80.57735648],\n                {\n}\n            ).addTo(marker_cluster_1763e4b37d50db457f6d18578890cac3);\n        \n    \n            var icon_61e92d72923ba02c750ae1b460f42e99 = L.AwesomeMarkers.icon(\n                {\n  &quot;markerColor&quot;: &quot;green&quot;,\n  &quot;iconColor&quot;: &quot;white&quot;,\n  &quot;icon&quot;: &quot;info-sign&quot;,\n  &quot;prefix&quot;: &quot;glyphicon&quot;,\n  &quot;extraClasses&quot;: &quot;fa-rotate-0&quot;,\n}\n            );\n        \n    \n                marker_1cd72407ec9fc1208577aa8aef2ebab4.setIcon(icon_61e92d72923ba02c750ae1b460f42e99);\n            \n    \n            var marker_56afa4e20458644cff790bb74e6ca8e2 = L.marker(\n                [28.56230197, -80.57735648],\n                {\n}\n            ).addTo(marker_cluster_1763e4b37d50db457f6d18578890cac3);\n        \n    \n            var icon_b7fc933c77cf52bb1d903c4cb1a12951 = L.AwesomeMarkers.icon(\n                {\n  &quot;markerColor&quot;: &quot;red&quot;,\n  &quot;iconColor&quot;: &quot;white&quot;,\n  &quot;icon&quot;: &quot;info-sign&quot;,\n  &quot;prefix&quot;: &quot;glyphicon&quot;,\n  &quot;extraClasses&quot;: &quot;fa-rotate-0&quot;,\n}\n            );\n        \n    \n                marker_56afa4e20458644cff790bb74e6ca8e2.setIcon(icon_b7fc933c77cf52bb1d903c4cb1a12951);\n            \n    \n            var marker_62914e95b27ddeed85ea42ea0e1e2b85 = L.marker(\n                [28.56230197, -80.57735648],\n                {\n}\n            ).addTo(marker_cluster_1763e4b37d50db457f6d18578890cac3);\n        \n    \n            var icon_82a0ad909e5fa16f7cdd5749b42bfd03 = L.AwesomeMarkers.icon(\n                {\n  &quot;markerColor&quot;: &quot;green&quot;,\n  &quot;iconColor&quot;: &quot;white&quot;,\n  &quot;icon&quot;: &quot;info-sign&quot;,\n  &quot;prefix&quot;: &quot;glyphicon&quot;,\n  &quot;extraClasses&quot;: &quot;fa-rotate-0&quot;,\n}\n            );\n        \n    \n                marker_62914e95b27ddeed85ea42ea0e1e2b85.setIcon(icon_82a0ad909e5fa16f7cdd5749b42bfd03);\n            \n    \n            var marker_78a2b5f20f7e024dc5c54810e56d7313 = L.marker(\n                [28.56230197, -80.57735648],\n                {\n}\n            ).addTo(marker_cluster_1763e4b37d50db457f6d18578890cac3);\n        \n    \n            var icon_c531a41277b265642100ebb2dfd85a43 = L.AwesomeMarkers.icon(\n                {\n  &quot;markerColor&quot;: &quot;green&quot;,\n  &quot;iconColor&quot;: &quot;white&quot;,\n  &quot;icon&quot;: &quot;info-sign&quot;,\n  &quot;prefix&quot;: &quot;glyphicon&quot;,\n  &quot;extraClasses&quot;: &quot;fa-rotate-0&quot;,\n}\n            );\n        \n    \n                marker_78a2b5f20f7e024dc5c54810e56d7313.setIcon(icon_c531a41277b265642100ebb2dfd85a43);\n            \n    \n            var marker_fa6327ee999d391b4b4141e4e7d05142 = L.marker(\n                [28.56230197, -80.57735648],\n                {\n}\n            ).addTo(marker_cluster_1763e4b37d50db457f6d18578890cac3);\n        \n    \n            var icon_dd3353bc93a43197fe2defcb12d2c983 = L.AwesomeMarkers.icon(\n                {\n  &quot;markerColor&quot;: &quot;green&quot;,\n  &quot;iconColor&quot;: &quot;white&quot;,\n  &quot;icon&quot;: &quot;info-sign&quot;,\n  &quot;prefix&quot;: &quot;glyphicon&quot;,\n  &quot;extraClasses&quot;: &quot;fa-rotate-0&quot;,\n}\n            );\n        \n    \n                marker_fa6327ee999d391b4b4141e4e7d05142.setIcon(icon_dd3353bc93a43197fe2defcb12d2c983);\n            \n    \n            var marker_d0c57e18dc9c4d5730d3f676d4ebf343 = L.marker(\n                [28.56230197, -80.57735648],\n                {\n}\n            ).addTo(marker_cluster_1763e4b37d50db457f6d18578890cac3);\n        \n    \n            var icon_7d9939ebfcd482b550ec2f364ff7a79b = L.AwesomeMarkers.icon(\n                {\n  &quot;markerColor&quot;: &quot;red&quot;,\n  &quot;iconColor&quot;: &quot;white&quot;,\n  &quot;icon&quot;: &quot;info-sign&quot;,\n  &quot;prefix&quot;: &quot;glyphicon&quot;,\n  &quot;extraClasses&quot;: &quot;fa-rotate-0&quot;,\n}\n            );\n        \n    \n                marker_d0c57e18dc9c4d5730d3f676d4ebf343.setIcon(icon_7d9939ebfcd482b550ec2f364ff7a79b);\n            \n    \n            var marker_f4b0e2f8d27ee4bae968b2a642e3b2d2 = L.marker(\n                [28.56230197, -80.57735648],\n                {\n}\n            ).addTo(marker_cluster_1763e4b37d50db457f6d18578890cac3);\n        \n    \n            var icon_eea1b82834e882109e5fc1f7486a1fc0 = L.AwesomeMarkers.icon(\n                {\n  &quot;markerColor&quot;: &quot;green&quot;,\n  &quot;iconColor&quot;: &quot;white&quot;,\n  &quot;icon&quot;: &quot;info-sign&quot;,\n  &quot;prefix&quot;: &quot;glyphicon&quot;,\n  &quot;extraClasses&quot;: &quot;fa-rotate-0&quot;,\n}\n            );\n        \n    \n                marker_f4b0e2f8d27ee4bae968b2a642e3b2d2.setIcon(icon_eea1b82834e882109e5fc1f7486a1fc0);\n            \n    \n            var marker_c04ac6f7c1cc702f3a75dd8d59c91842 = L.marker(\n                [28.56230197, -80.57735648],\n                {\n}\n            ).addTo(marker_cluster_1763e4b37d50db457f6d18578890cac3);\n        \n    \n            var icon_92d11c8a8315b3920202ebe24a481121 = L.AwesomeMarkers.icon(\n                {\n  &quot;markerColor&quot;: &quot;green&quot;,\n  &quot;iconColor&quot;: &quot;white&quot;,\n  &quot;icon&quot;: &quot;info-sign&quot;,\n  &quot;prefix&quot;: &quot;glyphicon&quot;,\n  &quot;extraClasses&quot;: &quot;fa-rotate-0&quot;,\n}\n            );\n        \n    \n                marker_c04ac6f7c1cc702f3a75dd8d59c91842.setIcon(icon_92d11c8a8315b3920202ebe24a481121);\n            \n    \n            var marker_3fffe755cdeca71795d2e40c3dc7d5d3 = L.marker(\n                [34.63283416, -120.6107455],\n                {\n}\n            ).addTo(marker_cluster_1763e4b37d50db457f6d18578890cac3);\n        \n    \n            var icon_df65573ca143dce0dd2807caf0eeaa70 = L.AwesomeMarkers.icon(\n                {\n  &quot;markerColor&quot;: &quot;red&quot;,\n  &quot;iconColor&quot;: &quot;white&quot;,\n  &quot;icon&quot;: &quot;info-sign&quot;,\n  &quot;prefix&quot;: &quot;glyphicon&quot;,\n  &quot;extraClasses&quot;: &quot;fa-rotate-0&quot;,\n}\n            );\n        \n    \n                marker_3fffe755cdeca71795d2e40c3dc7d5d3.setIcon(icon_df65573ca143dce0dd2807caf0eeaa70);\n            \n    \n            var marker_6fb24958f5fa43f114119e2096221ddf = L.marker(\n                [34.63283416, -120.6107455],\n                {\n}\n            ).addTo(marker_cluster_1763e4b37d50db457f6d18578890cac3);\n        \n    \n            var icon_4d088b5fa099eacee25ab9c3dc949187 = L.AwesomeMarkers.icon(\n                {\n  &quot;markerColor&quot;: &quot;red&quot;,\n  &quot;iconColor&quot;: &quot;white&quot;,\n  &quot;icon&quot;: &quot;info-sign&quot;,\n  &quot;prefix&quot;: &quot;glyphicon&quot;,\n  &quot;extraClasses&quot;: &quot;fa-rotate-0&quot;,\n}\n            );\n        \n    \n                marker_6fb24958f5fa43f114119e2096221ddf.setIcon(icon_4d088b5fa099eacee25ab9c3dc949187);\n            \n    \n            var marker_122c050ecb7e2908f1293d1dc15c49d1 = L.marker(\n                [34.63283416, -120.6107455],\n                {\n}\n            ).addTo(marker_cluster_1763e4b37d50db457f6d18578890cac3);\n        \n    \n            var icon_d30e867fcd09efd11410a802a3ef61f1 = L.AwesomeMarkers.icon(\n                {\n  &quot;markerColor&quot;: &quot;green&quot;,\n  &quot;iconColor&quot;: &quot;white&quot;,\n  &quot;icon&quot;: &quot;info-sign&quot;,\n  &quot;prefix&quot;: &quot;glyphicon&quot;,\n  &quot;extraClasses&quot;: &quot;fa-rotate-0&quot;,\n}\n            );\n        \n    \n                marker_122c050ecb7e2908f1293d1dc15c49d1.setIcon(icon_d30e867fcd09efd11410a802a3ef61f1);\n            \n    \n            var marker_edb3f019d6694e66b0a4fce2764ba271 = L.marker(\n                [34.63283416, -120.6107455],\n                {\n}\n            ).addTo(marker_cluster_1763e4b37d50db457f6d18578890cac3);\n        \n    \n            var icon_307ef064b2a9fd8be0719f46a42d2cd6 = L.AwesomeMarkers.icon(\n                {\n  &quot;markerColor&quot;: &quot;green&quot;,\n  &quot;iconColor&quot;: &quot;white&quot;,\n  &quot;icon&quot;: &quot;info-sign&quot;,\n  &quot;prefix&quot;: &quot;glyphicon&quot;,\n  &quot;extraClasses&quot;: &quot;fa-rotate-0&quot;,\n}\n            );\n        \n    \n                marker_edb3f019d6694e66b0a4fce2764ba271.setIcon(icon_307ef064b2a9fd8be0719f46a42d2cd6);\n            \n    \n            var marker_1d7eef38c531ef7925b25a14f480fed6 = L.marker(\n                [34.63283416, -120.6107455],\n                {\n}\n            ).addTo(marker_cluster_1763e4b37d50db457f6d18578890cac3);\n        \n    \n            var icon_5c1af434c2660eb95db5558baaef8d17 = L.AwesomeMarkers.icon(\n                {\n  &quot;markerColor&quot;: &quot;green&quot;,\n  &quot;iconColor&quot;: &quot;white&quot;,\n  &quot;icon&quot;: &quot;info-sign&quot;,\n  &quot;prefix&quot;: &quot;glyphicon&quot;,\n  &quot;extraClasses&quot;: &quot;fa-rotate-0&quot;,\n}\n            );\n        \n    \n                marker_1d7eef38c531ef7925b25a14f480fed6.setIcon(icon_5c1af434c2660eb95db5558baaef8d17);\n            \n    \n            var marker_5e72bada2de885212eefbad95373ca96 = L.marker(\n                [34.63283416, -120.6107455],\n                {\n}\n            ).addTo(marker_cluster_1763e4b37d50db457f6d18578890cac3);\n        \n    \n            var icon_b3c1a5fa347b1b4803ceabbbe52eb9da = L.AwesomeMarkers.icon(\n                {\n  &quot;markerColor&quot;: &quot;green&quot;,\n  &quot;iconColor&quot;: &quot;white&quot;,\n  &quot;icon&quot;: &quot;info-sign&quot;,\n  &quot;prefix&quot;: &quot;glyphicon&quot;,\n  &quot;extraClasses&quot;: &quot;fa-rotate-0&quot;,\n}\n            );\n        \n    \n                marker_5e72bada2de885212eefbad95373ca96.setIcon(icon_b3c1a5fa347b1b4803ceabbbe52eb9da);\n            \n    \n            var marker_4679fe2fba86fbc664cdc09ca4bccec8 = L.marker(\n                [34.63283416, -120.6107455],\n                {\n}\n            ).addTo(marker_cluster_1763e4b37d50db457f6d18578890cac3);\n        \n    \n            var icon_a793b28526e7f1de6812753fb275f530 = L.AwesomeMarkers.icon(\n                {\n  &quot;markerColor&quot;: &quot;red&quot;,\n  &quot;iconColor&quot;: &quot;white&quot;,\n  &quot;icon&quot;: &quot;info-sign&quot;,\n  &quot;prefix&quot;: &quot;glyphicon&quot;,\n  &quot;extraClasses&quot;: &quot;fa-rotate-0&quot;,\n}\n            );\n        \n    \n                marker_4679fe2fba86fbc664cdc09ca4bccec8.setIcon(icon_a793b28526e7f1de6812753fb275f530);\n            \n    \n            var marker_4950366a534e680842514d4158e649c5 = L.marker(\n                [34.63283416, -120.6107455],\n                {\n}\n            ).addTo(marker_cluster_1763e4b37d50db457f6d18578890cac3);\n        \n    \n            var icon_cbaa01a0892c0f1fe3f33add18717f51 = L.AwesomeMarkers.icon(\n                {\n  &quot;markerColor&quot;: &quot;red&quot;,\n  &quot;iconColor&quot;: &quot;white&quot;,\n  &quot;icon&quot;: &quot;info-sign&quot;,\n  &quot;prefix&quot;: &quot;glyphicon&quot;,\n  &quot;extraClasses&quot;: &quot;fa-rotate-0&quot;,\n}\n            );\n        \n    \n                marker_4950366a534e680842514d4158e649c5.setIcon(icon_cbaa01a0892c0f1fe3f33add18717f51);\n            \n    \n            var marker_69cc07177e61b3aa7b7bd95e99aaef80 = L.marker(\n                [34.63283416, -120.6107455],\n                {\n}\n            ).addTo(marker_cluster_1763e4b37d50db457f6d18578890cac3);\n        \n    \n            var icon_6ff2cd3ba921eae689c0d6f7fa207163 = L.AwesomeMarkers.icon(\n                {\n  &quot;markerColor&quot;: &quot;red&quot;,\n  &quot;iconColor&quot;: &quot;white&quot;,\n  &quot;icon&quot;: &quot;info-sign&quot;,\n  &quot;prefix&quot;: &quot;glyphicon&quot;,\n  &quot;extraClasses&quot;: &quot;fa-rotate-0&quot;,\n}\n            );\n        \n    \n                marker_69cc07177e61b3aa7b7bd95e99aaef80.setIcon(icon_6ff2cd3ba921eae689c0d6f7fa207163);\n            \n    \n            var marker_042d8c633df7cc98c733376f0cd39940 = L.marker(\n                [34.63283416, -120.6107455],\n                {\n}\n            ).addTo(marker_cluster_1763e4b37d50db457f6d18578890cac3);\n        \n    \n            var icon_7081430b60ac1a1134da4be3fdb50da8 = L.AwesomeMarkers.icon(\n                {\n  &quot;markerColor&quot;: &quot;red&quot;,\n  &quot;iconColor&quot;: &quot;white&quot;,\n  &quot;icon&quot;: &quot;info-sign&quot;,\n  &quot;prefix&quot;: &quot;glyphicon&quot;,\n  &quot;extraClasses&quot;: &quot;fa-rotate-0&quot;,\n}\n            );\n        \n    \n                marker_042d8c633df7cc98c733376f0cd39940.setIcon(icon_7081430b60ac1a1134da4be3fdb50da8);\n            \n    \n            var marker_172bc7458ee08d794a127c1f2e56bc80 = L.marker(\n                [28.57325457, -80.64689529],\n                {\n}\n            ).addTo(marker_cluster_1763e4b37d50db457f6d18578890cac3);\n        \n    \n            var icon_fd6029e956a229e5ae990ee17e606800 = L.AwesomeMarkers.icon(\n                {\n  &quot;markerColor&quot;: &quot;green&quot;,\n  &quot;iconColor&quot;: &quot;white&quot;,\n  &quot;icon&quot;: &quot;info-sign&quot;,\n  &quot;prefix&quot;: &quot;glyphicon&quot;,\n  &quot;extraClasses&quot;: &quot;fa-rotate-0&quot;,\n}\n            );\n        \n    \n                marker_172bc7458ee08d794a127c1f2e56bc80.setIcon(icon_fd6029e956a229e5ae990ee17e606800);\n            \n    \n            var marker_923021d75ca60e3e8d24a70ef7f2e52b = L.marker(\n                [28.57325457, -80.64689529],\n                {\n}\n            ).addTo(marker_cluster_1763e4b37d50db457f6d18578890cac3);\n        \n    \n            var icon_9670a11389b705d88b64caaf5597ac4f = L.AwesomeMarkers.icon(\n                {\n  &quot;markerColor&quot;: &quot;red&quot;,\n  &quot;iconColor&quot;: &quot;white&quot;,\n  &quot;icon&quot;: &quot;info-sign&quot;,\n  &quot;prefix&quot;: &quot;glyphicon&quot;,\n  &quot;extraClasses&quot;: &quot;fa-rotate-0&quot;,\n}\n            );\n        \n    \n                marker_923021d75ca60e3e8d24a70ef7f2e52b.setIcon(icon_9670a11389b705d88b64caaf5597ac4f);\n            \n    \n            var marker_a4f2fa57fb6adbcf07d623cac43310d0 = L.marker(\n                [28.57325457, -80.64689529],\n                {\n}\n            ).addTo(marker_cluster_1763e4b37d50db457f6d18578890cac3);\n        \n    \n            var icon_36634a65e02f9f9a0bc574990d343393 = L.AwesomeMarkers.icon(\n                {\n  &quot;markerColor&quot;: &quot;green&quot;,\n  &quot;iconColor&quot;: &quot;white&quot;,\n  &quot;icon&quot;: &quot;info-sign&quot;,\n  &quot;prefix&quot;: &quot;glyphicon&quot;,\n  &quot;extraClasses&quot;: &quot;fa-rotate-0&quot;,\n}\n            );\n        \n    \n                marker_a4f2fa57fb6adbcf07d623cac43310d0.setIcon(icon_36634a65e02f9f9a0bc574990d343393);\n            \n    \n            var marker_0894e51d6c2149e6ae9b29b1bcb2e0c1 = L.marker(\n                [28.57325457, -80.64689529],\n                {\n}\n            ).addTo(marker_cluster_1763e4b37d50db457f6d18578890cac3);\n        \n    \n            var icon_85543cfbe8d79c775de295d58229977c = L.AwesomeMarkers.icon(\n                {\n  &quot;markerColor&quot;: &quot;green&quot;,\n  &quot;iconColor&quot;: &quot;white&quot;,\n  &quot;icon&quot;: &quot;info-sign&quot;,\n  &quot;prefix&quot;: &quot;glyphicon&quot;,\n  &quot;extraClasses&quot;: &quot;fa-rotate-0&quot;,\n}\n            );\n        \n    \n                marker_0894e51d6c2149e6ae9b29b1bcb2e0c1.setIcon(icon_85543cfbe8d79c775de295d58229977c);\n            \n    \n            var marker_780a49622ff4a0b74cc2985e66d8c938 = L.marker(\n                [28.57325457, -80.64689529],\n                {\n}\n            ).addTo(marker_cluster_1763e4b37d50db457f6d18578890cac3);\n        \n    \n            var icon_1a4ed4c8fd8755aa2f31b6f30e939650 = L.AwesomeMarkers.icon(\n                {\n  &quot;markerColor&quot;: &quot;red&quot;,\n  &quot;iconColor&quot;: &quot;white&quot;,\n  &quot;icon&quot;: &quot;info-sign&quot;,\n  &quot;prefix&quot;: &quot;glyphicon&quot;,\n  &quot;extraClasses&quot;: &quot;fa-rotate-0&quot;,\n}\n            );\n        \n    \n                marker_780a49622ff4a0b74cc2985e66d8c938.setIcon(icon_1a4ed4c8fd8755aa2f31b6f30e939650);\n            \n    \n            var marker_d37c88502c592aa7f20267370064d7aa = L.marker(\n                [28.57325457, -80.64689529],\n                {\n}\n            ).addTo(marker_cluster_1763e4b37d50db457f6d18578890cac3);\n        \n    \n            var icon_29fc55a955b73660a4c85f3e9d92c719 = L.AwesomeMarkers.icon(\n                {\n  &quot;markerColor&quot;: &quot;green&quot;,\n  &quot;iconColor&quot;: &quot;white&quot;,\n  &quot;icon&quot;: &quot;info-sign&quot;,\n  &quot;prefix&quot;: &quot;glyphicon&quot;,\n  &quot;extraClasses&quot;: &quot;fa-rotate-0&quot;,\n}\n            );\n        \n    \n                marker_d37c88502c592aa7f20267370064d7aa.setIcon(icon_29fc55a955b73660a4c85f3e9d92c719);\n            \n    \n            var marker_c1d94868fbfa0a061ef9b05961c4eacf = L.marker(\n                [28.57325457, -80.64689529],\n                {\n}\n            ).addTo(marker_cluster_1763e4b37d50db457f6d18578890cac3);\n        \n    \n            var icon_5f7224a34f3c3349fee1b96df4574379 = L.AwesomeMarkers.icon(\n                {\n  &quot;markerColor&quot;: &quot;green&quot;,\n  &quot;iconColor&quot;: &quot;white&quot;,\n  &quot;icon&quot;: &quot;info-sign&quot;,\n  &quot;prefix&quot;: &quot;glyphicon&quot;,\n  &quot;extraClasses&quot;: &quot;fa-rotate-0&quot;,\n}\n            );\n        \n    \n                marker_c1d94868fbfa0a061ef9b05961c4eacf.setIcon(icon_5f7224a34f3c3349fee1b96df4574379);\n            \n    \n            var marker_35c2d3563a7aaef471d8766f915c73b4 = L.marker(\n                [28.57325457, -80.64689529],\n                {\n}\n            ).addTo(marker_cluster_1763e4b37d50db457f6d18578890cac3);\n        \n    \n            var icon_a457cf552128213f54ac402073432dc6 = L.AwesomeMarkers.icon(\n                {\n  &quot;markerColor&quot;: &quot;red&quot;,\n  &quot;iconColor&quot;: &quot;white&quot;,\n  &quot;icon&quot;: &quot;info-sign&quot;,\n  &quot;prefix&quot;: &quot;glyphicon&quot;,\n  &quot;extraClasses&quot;: &quot;fa-rotate-0&quot;,\n}\n            );\n        \n    \n                marker_35c2d3563a7aaef471d8766f915c73b4.setIcon(icon_a457cf552128213f54ac402073432dc6);\n            \n    \n            var marker_598af308a8d545df56b3bd68149a911d = L.marker(\n                [28.57325457, -80.64689529],\n                {\n}\n            ).addTo(marker_cluster_1763e4b37d50db457f6d18578890cac3);\n        \n    \n            var icon_da9402dd0e44bf21b8915982cfb20031 = L.AwesomeMarkers.icon(\n                {\n  &quot;markerColor&quot;: &quot;green&quot;,\n  &quot;iconColor&quot;: &quot;white&quot;,\n  &quot;icon&quot;: &quot;info-sign&quot;,\n  &quot;prefix&quot;: &quot;glyphicon&quot;,\n  &quot;extraClasses&quot;: &quot;fa-rotate-0&quot;,\n}\n            );\n        \n    \n                marker_598af308a8d545df56b3bd68149a911d.setIcon(icon_da9402dd0e44bf21b8915982cfb20031);\n            \n    \n            var marker_0ca7a548ac94b2236f8b1296c2ef1190 = L.marker(\n                [28.57325457, -80.64689529],\n                {\n}\n            ).addTo(marker_cluster_1763e4b37d50db457f6d18578890cac3);\n        \n    \n            var icon_b2bb5b77b8d2eb0304f6dd8ddebaf73c = L.AwesomeMarkers.icon(\n                {\n  &quot;markerColor&quot;: &quot;green&quot;,\n  &quot;iconColor&quot;: &quot;white&quot;,\n  &quot;icon&quot;: &quot;info-sign&quot;,\n  &quot;prefix&quot;: &quot;glyphicon&quot;,\n  &quot;extraClasses&quot;: &quot;fa-rotate-0&quot;,\n}\n            );\n        \n    \n                marker_0ca7a548ac94b2236f8b1296c2ef1190.setIcon(icon_b2bb5b77b8d2eb0304f6dd8ddebaf73c);\n            \n    \n            var marker_a27797593f3c39926f1cb801f98f9790 = L.marker(\n                [28.57325457, -80.64689529],\n                {\n}\n            ).addTo(marker_cluster_1763e4b37d50db457f6d18578890cac3);\n        \n    \n            var icon_398e77eb5e7bdcc7f698e6ef986c4a61 = L.AwesomeMarkers.icon(\n                {\n  &quot;markerColor&quot;: &quot;green&quot;,\n  &quot;iconColor&quot;: &quot;white&quot;,\n  &quot;icon&quot;: &quot;info-sign&quot;,\n  &quot;prefix&quot;: &quot;glyphicon&quot;,\n  &quot;extraClasses&quot;: &quot;fa-rotate-0&quot;,\n}\n            );\n        \n    \n                marker_a27797593f3c39926f1cb801f98f9790.setIcon(icon_398e77eb5e7bdcc7f698e6ef986c4a61);\n            \n    \n            var marker_a91d41f720f1573698e5a2b76a671ac5 = L.marker(\n                [28.57325457, -80.64689529],\n                {\n}\n            ).addTo(marker_cluster_1763e4b37d50db457f6d18578890cac3);\n        \n    \n            var icon_8d105a6cec04f7026fe0a2a7cf0c917b = L.AwesomeMarkers.icon(\n                {\n  &quot;markerColor&quot;: &quot;green&quot;,\n  &quot;iconColor&quot;: &quot;white&quot;,\n  &quot;icon&quot;: &quot;info-sign&quot;,\n  &quot;prefix&quot;: &quot;glyphicon&quot;,\n  &quot;extraClasses&quot;: &quot;fa-rotate-0&quot;,\n}\n            );\n        \n    \n                marker_a91d41f720f1573698e5a2b76a671ac5.setIcon(icon_8d105a6cec04f7026fe0a2a7cf0c917b);\n            \n    \n            var marker_4dff7c4061f24a7bb5b6f0e7d01c9700 = L.marker(\n                [28.57325457, -80.64689529],\n                {\n}\n            ).addTo(marker_cluster_1763e4b37d50db457f6d18578890cac3);\n        \n    \n            var icon_7a5a923dd85bccbbca6a59c826773f13 = L.AwesomeMarkers.icon(\n                {\n  &quot;markerColor&quot;: &quot;green&quot;,\n  &quot;iconColor&quot;: &quot;white&quot;,\n  &quot;icon&quot;: &quot;info-sign&quot;,\n  &quot;prefix&quot;: &quot;glyphicon&quot;,\n  &quot;extraClasses&quot;: &quot;fa-rotate-0&quot;,\n}\n            );\n        \n    \n                marker_4dff7c4061f24a7bb5b6f0e7d01c9700.setIcon(icon_7a5a923dd85bccbbca6a59c826773f13);\n            \n    \n            var marker_3eb1b0b6d899eb53812940a0fe5012cc = L.marker(\n                [28.56319718, -80.57682003],\n                {\n}\n            ).addTo(marker_cluster_1763e4b37d50db457f6d18578890cac3);\n        \n    \n            var icon_8dbe76329dde34ac937b3fec0860e995 = L.AwesomeMarkers.icon(\n                {\n  &quot;markerColor&quot;: &quot;green&quot;,\n  &quot;iconColor&quot;: &quot;white&quot;,\n  &quot;icon&quot;: &quot;info-sign&quot;,\n  &quot;prefix&quot;: &quot;glyphicon&quot;,\n  &quot;extraClasses&quot;: &quot;fa-rotate-0&quot;,\n}\n            );\n        \n    \n                marker_3eb1b0b6d899eb53812940a0fe5012cc.setIcon(icon_8dbe76329dde34ac937b3fec0860e995);\n            \n    \n            var marker_4fadb8fb785a28f7d284e24c7e31c14d = L.marker(\n                [28.56319718, -80.57682003],\n                {\n}\n            ).addTo(marker_cluster_1763e4b37d50db457f6d18578890cac3);\n        \n    \n            var icon_e14d243c69dffc08484710db9bc9f1dc = L.AwesomeMarkers.icon(\n                {\n  &quot;markerColor&quot;: &quot;green&quot;,\n  &quot;iconColor&quot;: &quot;white&quot;,\n  &quot;icon&quot;: &quot;info-sign&quot;,\n  &quot;prefix&quot;: &quot;glyphicon&quot;,\n  &quot;extraClasses&quot;: &quot;fa-rotate-0&quot;,\n}\n            );\n        \n    \n                marker_4fadb8fb785a28f7d284e24c7e31c14d.setIcon(icon_e14d243c69dffc08484710db9bc9f1dc);\n            \n    \n            var marker_67acccae4d63bb537933cbe0ec5a9931 = L.marker(\n                [28.56319718, -80.57682003],\n                {\n}\n            ).addTo(marker_cluster_1763e4b37d50db457f6d18578890cac3);\n        \n    \n            var icon_cec62e2f463bad98569de1c96950352b = L.AwesomeMarkers.icon(\n                {\n  &quot;markerColor&quot;: &quot;red&quot;,\n  &quot;iconColor&quot;: &quot;white&quot;,\n  &quot;icon&quot;: &quot;info-sign&quot;,\n  &quot;prefix&quot;: &quot;glyphicon&quot;,\n  &quot;extraClasses&quot;: &quot;fa-rotate-0&quot;,\n}\n            );\n        \n    \n                marker_67acccae4d63bb537933cbe0ec5a9931.setIcon(icon_cec62e2f463bad98569de1c96950352b);\n            \n    \n            var marker_d413a6ad9994c6f9df03c19c8d142a9e = L.marker(\n                [28.56319718, -80.57682003],\n                {\n}\n            ).addTo(marker_cluster_1763e4b37d50db457f6d18578890cac3);\n        \n    \n            var icon_fe7ddeb0ab13988877c9d0f535f8a6e9 = L.AwesomeMarkers.icon(\n                {\n  &quot;markerColor&quot;: &quot;red&quot;,\n  &quot;iconColor&quot;: &quot;white&quot;,\n  &quot;icon&quot;: &quot;info-sign&quot;,\n  &quot;prefix&quot;: &quot;glyphicon&quot;,\n  &quot;extraClasses&quot;: &quot;fa-rotate-0&quot;,\n}\n            );\n        \n    \n                marker_d413a6ad9994c6f9df03c19c8d142a9e.setIcon(icon_fe7ddeb0ab13988877c9d0f535f8a6e9);\n            \n    \n            var marker_2b7aec2d4ef9cdb801e21a6f9e005d8f = L.marker(\n                [28.56319718, -80.57682003],\n                {\n}\n            ).addTo(marker_cluster_1763e4b37d50db457f6d18578890cac3);\n        \n    \n            var icon_35d200eba4d8e8882dcb2597e6926d8a = L.AwesomeMarkers.icon(\n                {\n  &quot;markerColor&quot;: &quot;red&quot;,\n  &quot;iconColor&quot;: &quot;white&quot;,\n  &quot;icon&quot;: &quot;info-sign&quot;,\n  &quot;prefix&quot;: &quot;glyphicon&quot;,\n  &quot;extraClasses&quot;: &quot;fa-rotate-0&quot;,\n}\n            );\n        \n    \n                marker_2b7aec2d4ef9cdb801e21a6f9e005d8f.setIcon(icon_35d200eba4d8e8882dcb2597e6926d8a);\n            \n    \n            var marker_4281541e35495f30a0aaa805f8884978 = L.marker(\n                [28.56319718, -80.57682003],\n                {\n}\n            ).addTo(marker_cluster_1763e4b37d50db457f6d18578890cac3);\n        \n    \n            var icon_f46c77ae9164d4836972e0281f226034 = L.AwesomeMarkers.icon(\n                {\n  &quot;markerColor&quot;: &quot;green&quot;,\n  &quot;iconColor&quot;: &quot;white&quot;,\n  &quot;icon&quot;: &quot;info-sign&quot;,\n  &quot;prefix&quot;: &quot;glyphicon&quot;,\n  &quot;extraClasses&quot;: &quot;fa-rotate-0&quot;,\n}\n            );\n        \n    \n                marker_4281541e35495f30a0aaa805f8884978.setIcon(icon_f46c77ae9164d4836972e0281f226034);\n            \n    \n            var marker_6480b3f54a363b1f73246382bfd1b58a = L.marker(\n                [28.56319718, -80.57682003],\n                {\n}\n            ).addTo(marker_cluster_1763e4b37d50db457f6d18578890cac3);\n        \n    \n            var icon_8f20b2e81720ea07c8ac323131c9148f = L.AwesomeMarkers.icon(\n                {\n  &quot;markerColor&quot;: &quot;red&quot;,\n  &quot;iconColor&quot;: &quot;white&quot;,\n  &quot;icon&quot;: &quot;info-sign&quot;,\n  &quot;prefix&quot;: &quot;glyphicon&quot;,\n  &quot;extraClasses&quot;: &quot;fa-rotate-0&quot;,\n}\n            );\n        \n    \n                marker_6480b3f54a363b1f73246382bfd1b58a.setIcon(icon_8f20b2e81720ea07c8ac323131c9148f);\n            \n    \n            marker_cluster_1763e4b37d50db457f6d18578890cac3.addTo(map_da7a19f07eeefa8adc10518f6ad956f8);\n        \n    \n            tile_layer_09c69e1ab1a731e90d47ebfa6e19c69e.addTo(map_da7a19f07eeefa8adc10518f6ad956f8);\n        \n    \n                marker_7a7d80a778996b9ce7fed00ef7084301.setIcon(div_icon_87599db9a0af198cc8b70baaa7ee7d5f);\n            \n    \n                marker_cd3023ea6b2276174bd09759f72dccd2.setIcon(div_icon_8623d0ed3a28601da7fe6faffbe2e052);\n            \n    \n                marker_47c3673c91b0c9fdbb74a9e2cb9a289c.setIcon(div_icon_eebba04a87a67c8248e34aaf3dd53f2f);\n            \n    \n                marker_c1014388c8469e5579817f243d5a79b0.setIcon(div_icon_85e84f9853ed8c248b637b20aaa9ac20);\n            \n    \n                marker_177ca63334d11e9a825099b44a1acba5.setIcon(icon_e9dc2a0a14f12f2aed58658a03ef4042);\n            \n    \n                marker_f9cb2b718f1fed5dd8a2203149cd5bd7.setIcon(icon_614428cf4207ea8afbde864da505445c);\n            \n    \n                marker_816659a40eeb479d81cb04b4519dceba.setIcon(icon_358605a975b8246b298908841b4a162c);\n            \n    \n                marker_f452a5e0da43f9bee99e8843b73df3ba.setIcon(icon_7127ac011f998731cedcdd1fe99e4ffe);\n            \n    \n                marker_ee2ad5bb2f3889d136b0c96d169cd10c.setIcon(icon_87ae4bdb867c8953819af802a17f51c7);\n            \n    \n                marker_5c9f34df1cea79d42247325db90296c9.setIcon(icon_a768fb7f3d9ff0793315962332742a67);\n            \n    \n                marker_93557e07f48c2251d38a69dc1b171e4a.setIcon(icon_06bd210398ab63b7fc4a76f5c461b525);\n            \n    \n                marker_6116d92e96a2e6250d67f34c315d0f21.setIcon(icon_afe2af9645b5b8c6a00a4102158a51c6);\n            \n    \n                marker_336cc20cb318e77f1b111096f155519e.setIcon(icon_8b9b47ca171ca2fdac5fc4ce19cedac8);\n            \n    \n                marker_13bd5fe755240e414149ddc3a73559b0.setIcon(icon_1e8e4dc0ff6a34303eabdbe64357fa1c);\n            \n    \n                marker_b0a21ff139eb3c0444dc8c9f5faf230f.setIcon(icon_f232583a7aa4321d0e702c5b9969cc4e);\n            \n    \n                marker_4dbf202c1f93a03b6ad1c728b3e82075.setIcon(icon_fe2db8aabdef4fddd2e816c9215b8926);\n            \n    \n                marker_9aef6020941b8e2650043fd654f16e8f.setIcon(icon_858ab47dc8cce260cb981daa9a96ee91);\n            \n    \n                marker_67e9d1ed793357b82b196416ff71c4f2.setIcon(icon_3a9330cffaca49c818c19a794fedc424);\n            \n    \n                marker_bd54f1e0d9c0fe322ad05916754374f0.setIcon(icon_5aa4e3b58b92a103409f099bb3a7f291);\n            \n    \n                marker_033650627cd7494489dc8484d88a6ed9.setIcon(icon_6fee3ce6e204be0b806e6ffe47c1a9d0);\n            \n    \n                marker_5513c4d5c6c23f0bc309cfbb500eccfb.setIcon(icon_3129915479e093c7be493fb51e83ddb3);\n            \n    \n                marker_4a17ae47130d818ae82e0db6f50dc1ec.setIcon(icon_f15a8ec1a4273e22c401da64ef302eb4);\n            \n    \n                marker_1cd72407ec9fc1208577aa8aef2ebab4.setIcon(icon_61e92d72923ba02c750ae1b460f42e99);\n            \n    \n                marker_56afa4e20458644cff790bb74e6ca8e2.setIcon(icon_b7fc933c77cf52bb1d903c4cb1a12951);\n            \n    \n                marker_62914e95b27ddeed85ea42ea0e1e2b85.setIcon(icon_82a0ad909e5fa16f7cdd5749b42bfd03);\n            \n    \n                marker_78a2b5f20f7e024dc5c54810e56d7313.setIcon(icon_c531a41277b265642100ebb2dfd85a43);\n            \n    \n                marker_fa6327ee999d391b4b4141e4e7d05142.setIcon(icon_dd3353bc93a43197fe2defcb12d2c983);\n            \n    \n                marker_d0c57e18dc9c4d5730d3f676d4ebf343.setIcon(icon_7d9939ebfcd482b550ec2f364ff7a79b);\n            \n    \n                marker_f4b0e2f8d27ee4bae968b2a642e3b2d2.setIcon(icon_eea1b82834e882109e5fc1f7486a1fc0);\n            \n    \n                marker_c04ac6f7c1cc702f3a75dd8d59c91842.setIcon(icon_92d11c8a8315b3920202ebe24a481121);\n            \n    \n                marker_3fffe755cdeca71795d2e40c3dc7d5d3.setIcon(icon_df65573ca143dce0dd2807caf0eeaa70);\n            \n    \n                marker_6fb24958f5fa43f114119e2096221ddf.setIcon(icon_4d088b5fa099eacee25ab9c3dc949187);\n            \n    \n                marker_122c050ecb7e2908f1293d1dc15c49d1.setIcon(icon_d30e867fcd09efd11410a802a3ef61f1);\n            \n    \n                marker_edb3f019d6694e66b0a4fce2764ba271.setIcon(icon_307ef064b2a9fd8be0719f46a42d2cd6);\n            \n    \n                marker_1d7eef38c531ef7925b25a14f480fed6.setIcon(icon_5c1af434c2660eb95db5558baaef8d17);\n            \n    \n                marker_5e72bada2de885212eefbad95373ca96.setIcon(icon_b3c1a5fa347b1b4803ceabbbe52eb9da);\n            \n    \n                marker_4679fe2fba86fbc664cdc09ca4bccec8.setIcon(icon_a793b28526e7f1de6812753fb275f530);\n            \n    \n                marker_4950366a534e680842514d4158e649c5.setIcon(icon_cbaa01a0892c0f1fe3f33add18717f51);\n            \n    \n                marker_69cc07177e61b3aa7b7bd95e99aaef80.setIcon(icon_6ff2cd3ba921eae689c0d6f7fa207163);\n            \n    \n                marker_042d8c633df7cc98c733376f0cd39940.setIcon(icon_7081430b60ac1a1134da4be3fdb50da8);\n            \n    \n                marker_172bc7458ee08d794a127c1f2e56bc80.setIcon(icon_fd6029e956a229e5ae990ee17e606800);\n            \n    \n                marker_923021d75ca60e3e8d24a70ef7f2e52b.setIcon(icon_9670a11389b705d88b64caaf5597ac4f);\n            \n    \n                marker_a4f2fa57fb6adbcf07d623cac43310d0.setIcon(icon_36634a65e02f9f9a0bc574990d343393);\n            \n    \n                marker_0894e51d6c2149e6ae9b29b1bcb2e0c1.setIcon(icon_85543cfbe8d79c775de295d58229977c);\n            \n    \n                marker_780a49622ff4a0b74cc2985e66d8c938.setIcon(icon_1a4ed4c8fd8755aa2f31b6f30e939650);\n            \n    \n                marker_d37c88502c592aa7f20267370064d7aa.setIcon(icon_29fc55a955b73660a4c85f3e9d92c719);\n            \n    \n                marker_c1d94868fbfa0a061ef9b05961c4eacf.setIcon(icon_5f7224a34f3c3349fee1b96df4574379);\n            \n    \n                marker_35c2d3563a7aaef471d8766f915c73b4.setIcon(icon_a457cf552128213f54ac402073432dc6);\n            \n    \n                marker_598af308a8d545df56b3bd68149a911d.setIcon(icon_da9402dd0e44bf21b8915982cfb20031);\n            \n    \n                marker_0ca7a548ac94b2236f8b1296c2ef1190.setIcon(icon_b2bb5b77b8d2eb0304f6dd8ddebaf73c);\n            \n    \n                marker_a27797593f3c39926f1cb801f98f9790.setIcon(icon_398e77eb5e7bdcc7f698e6ef986c4a61);\n            \n    \n                marker_a91d41f720f1573698e5a2b76a671ac5.setIcon(icon_8d105a6cec04f7026fe0a2a7cf0c917b);\n            \n    \n                marker_4dff7c4061f24a7bb5b6f0e7d01c9700.setIcon(icon_7a5a923dd85bccbbca6a59c826773f13);\n            \n    \n                marker_3eb1b0b6d899eb53812940a0fe5012cc.setIcon(icon_8dbe76329dde34ac937b3fec0860e995);\n            \n    \n                marker_4fadb8fb785a28f7d284e24c7e31c14d.setIcon(icon_e14d243c69dffc08484710db9bc9f1dc);\n            \n    \n                marker_67acccae4d63bb537933cbe0ec5a9931.setIcon(icon_cec62e2f463bad98569de1c96950352b);\n            \n    \n                marker_d413a6ad9994c6f9df03c19c8d142a9e.setIcon(icon_fe7ddeb0ab13988877c9d0f535f8a6e9);\n            \n    \n                marker_2b7aec2d4ef9cdb801e21a6f9e005d8f.setIcon(icon_35d200eba4d8e8882dcb2597e6926d8a);\n            \n    \n                marker_4281541e35495f30a0aaa805f8884978.setIcon(icon_f46c77ae9164d4836972e0281f226034);\n            \n    \n                marker_6480b3f54a363b1f73246382bfd1b58a.setIcon(icon_8f20b2e81720ea07c8ac323131c9148f);\n            \n    \n            marker_cluster_1763e4b37d50db457f6d18578890cac3.addTo(map_da7a19f07eeefa8adc10518f6ad956f8);\n        \n    \n            var mouse_position_956d67350bab4dc592359b73215b31d3 = new L.Control.MousePosition(\n                {\n  &quot;position&quot;: &quot;topright&quot;,\n  &quot;separator&quot;: &quot; Long: &quot;,\n  &quot;emptyString&quot;: &quot;NaN&quot;,\n  &quot;lngFirst&quot;: false,\n  &quot;numDigits&quot;: 20,\n  &quot;prefix&quot;: &quot;Lat:&quot;,\n}\n            );\n            mouse_position_956d67350bab4dc592359b73215b31d3.options[&quot;latFormatter&quot;] =\n                function(num) {return L.Util.formatNum(num, 5);};;\n            mouse_position_956d67350bab4dc592359b73215b31d3.options[&quot;lngFormatter&quot;] =\n                function(num) {return L.Util.formatNum(num, 5);};;\n            map_da7a19f07eeefa8adc10518f6ad956f8.addControl(mouse_position_956d67350bab4dc592359b73215b31d3);\n        \n    \n            tile_layer_09c69e1ab1a731e90d47ebfa6e19c69e.addTo(map_da7a19f07eeefa8adc10518f6ad956f8);\n        \n    \n                marker_7a7d80a778996b9ce7fed00ef7084301.setIcon(div_icon_87599db9a0af198cc8b70baaa7ee7d5f);\n            \n    \n                marker_cd3023ea6b2276174bd09759f72dccd2.setIcon(div_icon_8623d0ed3a28601da7fe6faffbe2e052);\n            \n    \n                marker_47c3673c91b0c9fdbb74a9e2cb9a289c.setIcon(div_icon_eebba04a87a67c8248e34aaf3dd53f2f);\n            \n    \n                marker_c1014388c8469e5579817f243d5a79b0.setIcon(div_icon_85e84f9853ed8c248b637b20aaa9ac20);\n            \n    \n                marker_177ca63334d11e9a825099b44a1acba5.setIcon(icon_e9dc2a0a14f12f2aed58658a03ef4042);\n            \n    \n                marker_f9cb2b718f1fed5dd8a2203149cd5bd7.setIcon(icon_614428cf4207ea8afbde864da505445c);\n            \n    \n                marker_816659a40eeb479d81cb04b4519dceba.setIcon(icon_358605a975b8246b298908841b4a162c);\n            \n    \n                marker_f452a5e0da43f9bee99e8843b73df3ba.setIcon(icon_7127ac011f998731cedcdd1fe99e4ffe);\n            \n    \n                marker_ee2ad5bb2f3889d136b0c96d169cd10c.setIcon(icon_87ae4bdb867c8953819af802a17f51c7);\n            \n    \n                marker_5c9f34df1cea79d42247325db90296c9.setIcon(icon_a768fb7f3d9ff0793315962332742a67);\n            \n    \n                marker_93557e07f48c2251d38a69dc1b171e4a.setIcon(icon_06bd210398ab63b7fc4a76f5c461b525);\n            \n    \n                marker_6116d92e96a2e6250d67f34c315d0f21.setIcon(icon_afe2af9645b5b8c6a00a4102158a51c6);\n            \n    \n                marker_336cc20cb318e77f1b111096f155519e.setIcon(icon_8b9b47ca171ca2fdac5fc4ce19cedac8);\n            \n    \n                marker_13bd5fe755240e414149ddc3a73559b0.setIcon(icon_1e8e4dc0ff6a34303eabdbe64357fa1c);\n            \n    \n                marker_b0a21ff139eb3c0444dc8c9f5faf230f.setIcon(icon_f232583a7aa4321d0e702c5b9969cc4e);\n            \n    \n                marker_4dbf202c1f93a03b6ad1c728b3e82075.setIcon(icon_fe2db8aabdef4fddd2e816c9215b8926);\n            \n    \n                marker_9aef6020941b8e2650043fd654f16e8f.setIcon(icon_858ab47dc8cce260cb981daa9a96ee91);\n            \n    \n                marker_67e9d1ed793357b82b196416ff71c4f2.setIcon(icon_3a9330cffaca49c818c19a794fedc424);\n            \n    \n                marker_bd54f1e0d9c0fe322ad05916754374f0.setIcon(icon_5aa4e3b58b92a103409f099bb3a7f291);\n            \n    \n                marker_033650627cd7494489dc8484d88a6ed9.setIcon(icon_6fee3ce6e204be0b806e6ffe47c1a9d0);\n            \n    \n                marker_5513c4d5c6c23f0bc309cfbb500eccfb.setIcon(icon_3129915479e093c7be493fb51e83ddb3);\n            \n    \n                marker_4a17ae47130d818ae82e0db6f50dc1ec.setIcon(icon_f15a8ec1a4273e22c401da64ef302eb4);\n            \n    \n                marker_1cd72407ec9fc1208577aa8aef2ebab4.setIcon(icon_61e92d72923ba02c750ae1b460f42e99);\n            \n    \n                marker_56afa4e20458644cff790bb74e6ca8e2.setIcon(icon_b7fc933c77cf52bb1d903c4cb1a12951);\n            \n    \n                marker_62914e95b27ddeed85ea42ea0e1e2b85.setIcon(icon_82a0ad909e5fa16f7cdd5749b42bfd03);\n            \n    \n                marker_78a2b5f20f7e024dc5c54810e56d7313.setIcon(icon_c531a41277b265642100ebb2dfd85a43);\n            \n    \n                marker_fa6327ee999d391b4b4141e4e7d05142.setIcon(icon_dd3353bc93a43197fe2defcb12d2c983);\n            \n    \n                marker_d0c57e18dc9c4d5730d3f676d4ebf343.setIcon(icon_7d9939ebfcd482b550ec2f364ff7a79b);\n            \n    \n                marker_f4b0e2f8d27ee4bae968b2a642e3b2d2.setIcon(icon_eea1b82834e882109e5fc1f7486a1fc0);\n            \n    \n                marker_c04ac6f7c1cc702f3a75dd8d59c91842.setIcon(icon_92d11c8a8315b3920202ebe24a481121);\n            \n    \n                marker_3fffe755cdeca71795d2e40c3dc7d5d3.setIcon(icon_df65573ca143dce0dd2807caf0eeaa70);\n            \n    \n                marker_6fb24958f5fa43f114119e2096221ddf.setIcon(icon_4d088b5fa099eacee25ab9c3dc949187);\n            \n    \n                marker_122c050ecb7e2908f1293d1dc15c49d1.setIcon(icon_d30e867fcd09efd11410a802a3ef61f1);\n            \n    \n                marker_edb3f019d6694e66b0a4fce2764ba271.setIcon(icon_307ef064b2a9fd8be0719f46a42d2cd6);\n            \n    \n                marker_1d7eef38c531ef7925b25a14f480fed6.setIcon(icon_5c1af434c2660eb95db5558baaef8d17);\n            \n    \n                marker_5e72bada2de885212eefbad95373ca96.setIcon(icon_b3c1a5fa347b1b4803ceabbbe52eb9da);\n            \n    \n                marker_4679fe2fba86fbc664cdc09ca4bccec8.setIcon(icon_a793b28526e7f1de6812753fb275f530);\n            \n    \n                marker_4950366a534e680842514d4158e649c5.setIcon(icon_cbaa01a0892c0f1fe3f33add18717f51);\n            \n    \n                marker_69cc07177e61b3aa7b7bd95e99aaef80.setIcon(icon_6ff2cd3ba921eae689c0d6f7fa207163);\n            \n    \n                marker_042d8c633df7cc98c733376f0cd39940.setIcon(icon_7081430b60ac1a1134da4be3fdb50da8);\n            \n    \n                marker_172bc7458ee08d794a127c1f2e56bc80.setIcon(icon_fd6029e956a229e5ae990ee17e606800);\n            \n    \n                marker_923021d75ca60e3e8d24a70ef7f2e52b.setIcon(icon_9670a11389b705d88b64caaf5597ac4f);\n            \n    \n                marker_a4f2fa57fb6adbcf07d623cac43310d0.setIcon(icon_36634a65e02f9f9a0bc574990d343393);\n            \n    \n                marker_0894e51d6c2149e6ae9b29b1bcb2e0c1.setIcon(icon_85543cfbe8d79c775de295d58229977c);\n            \n    \n                marker_780a49622ff4a0b74cc2985e66d8c938.setIcon(icon_1a4ed4c8fd8755aa2f31b6f30e939650);\n            \n    \n                marker_d37c88502c592aa7f20267370064d7aa.setIcon(icon_29fc55a955b73660a4c85f3e9d92c719);\n            \n    \n                marker_c1d94868fbfa0a061ef9b05961c4eacf.setIcon(icon_5f7224a34f3c3349fee1b96df4574379);\n            \n    \n                marker_35c2d3563a7aaef471d8766f915c73b4.setIcon(icon_a457cf552128213f54ac402073432dc6);\n            \n    \n                marker_598af308a8d545df56b3bd68149a911d.setIcon(icon_da9402dd0e44bf21b8915982cfb20031);\n            \n    \n                marker_0ca7a548ac94b2236f8b1296c2ef1190.setIcon(icon_b2bb5b77b8d2eb0304f6dd8ddebaf73c);\n            \n    \n                marker_a27797593f3c39926f1cb801f98f9790.setIcon(icon_398e77eb5e7bdcc7f698e6ef986c4a61);\n            \n    \n                marker_a91d41f720f1573698e5a2b76a671ac5.setIcon(icon_8d105a6cec04f7026fe0a2a7cf0c917b);\n            \n    \n                marker_4dff7c4061f24a7bb5b6f0e7d01c9700.setIcon(icon_7a5a923dd85bccbbca6a59c826773f13);\n            \n    \n                marker_3eb1b0b6d899eb53812940a0fe5012cc.setIcon(icon_8dbe76329dde34ac937b3fec0860e995);\n            \n    \n                marker_4fadb8fb785a28f7d284e24c7e31c14d.setIcon(icon_e14d243c69dffc08484710db9bc9f1dc);\n            \n    \n                marker_67acccae4d63bb537933cbe0ec5a9931.setIcon(icon_cec62e2f463bad98569de1c96950352b);\n            \n    \n                marker_d413a6ad9994c6f9df03c19c8d142a9e.setIcon(icon_fe7ddeb0ab13988877c9d0f535f8a6e9);\n            \n    \n                marker_2b7aec2d4ef9cdb801e21a6f9e005d8f.setIcon(icon_35d200eba4d8e8882dcb2597e6926d8a);\n            \n    \n                marker_4281541e35495f30a0aaa805f8884978.setIcon(icon_f46c77ae9164d4836972e0281f226034);\n            \n    \n                marker_6480b3f54a363b1f73246382bfd1b58a.setIcon(icon_8f20b2e81720ea07c8ac323131c9148f);\n            \n    \n            marker_cluster_1763e4b37d50db457f6d18578890cac3.addTo(map_da7a19f07eeefa8adc10518f6ad956f8);\n        \n    \n            var poly_line_e0b6393bef20cabf24604fc23dc6935f = L.polyline(\n                [[28.56239, -80.56785], [28.56230197, -80.57735648]],\n                {&quot;bubblingMouseEvents&quot;: true, &quot;color&quot;: &quot;#3388ff&quot;, &quot;dashArray&quot;: null, &quot;dashOffset&quot;: null, &quot;fill&quot;: false, &quot;fillColor&quot;: &quot;#3388ff&quot;, &quot;fillOpacity&quot;: 0.2, &quot;fillRule&quot;: &quot;evenodd&quot;, &quot;lineCap&quot;: &quot;round&quot;, &quot;lineJoin&quot;: &quot;round&quot;, &quot;noClip&quot;: false, &quot;opacity&quot;: 1.0, &quot;smoothFactor&quot;: 1.0, &quot;stroke&quot;: true, &quot;weight&quot;: 1}\n            ).addTo(map_da7a19f07eeefa8adc10518f6ad956f8);\n        \n&lt;/script&gt;\n&lt;/html&gt;\" style=\"position:absolute;width:100%;height:100%;left:0;top:0;border:none !important;\" allowfullscreen webkitallowfullscreen mozallowfullscreen></iframe></div></div>"
          },
          "metadata": {}
        }
      ],
      "execution_count": 22
    },
    {
      "cell_type": "code",
      "source": "save_map(site_map)",
      "metadata": {
        "trusted": true
      },
      "outputs": [],
      "execution_count": 23
    },
    {
      "cell_type": "markdown",
      "source": "Your updated map with distance line should look like the following screenshot:\n",
      "metadata": {}
    },
    {
      "cell_type": "markdown",
      "source": "<center>\n    <img src=\"https://cf-courses-data.s3.us.cloud-object-storage.appdomain.cloud/IBM-DS0321EN-SkillsNetwork/labs/module_3/images/launch_site_marker_distance.png\">\n</center>\n",
      "metadata": {}
    },
    {
      "cell_type": "markdown",
      "source": "*TODO:* Similarly, you can draw a line betwee a launch site to its closest city, railway, highway, etc. You need to use `MousePosition` to find the their coordinates on the map first\n",
      "metadata": {}
    },
    {
      "cell_type": "markdown",
      "source": "A railway map symbol may look like this:\n",
      "metadata": {}
    },
    {
      "cell_type": "markdown",
      "source": "<center>\n    <img src=\"https://cf-courses-data.s3.us.cloud-object-storage.appdomain.cloud/IBM-DS0321EN-SkillsNetwork/labs/module_3/images/railway.png\">\n</center>\n",
      "metadata": {}
    },
    {
      "cell_type": "markdown",
      "source": "A highway map symbol may look like this:\n",
      "metadata": {}
    },
    {
      "cell_type": "markdown",
      "source": "<center>\n    <img src=\"https://cf-courses-data.s3.us.cloud-object-storage.appdomain.cloud/IBM-DS0321EN-SkillsNetwork/labs/module_3/images/highway.png\">\n</center>\n",
      "metadata": {}
    },
    {
      "cell_type": "markdown",
      "source": "A city map symbol may look like this:\n",
      "metadata": {}
    },
    {
      "cell_type": "markdown",
      "source": "<center>\n    <img src=\"https://cf-courses-data.s3.us.cloud-object-storage.appdomain.cloud/IBM-DS0321EN-SkillsNetwork/labs/module_3/images/city.png\">\n</center>\n",
      "metadata": {}
    },
    {
      "cell_type": "code",
      "source": "# Create a marker with distance to a closest city, railway, highway, etc.\n# Draw a line between the marker to the launch site\n",
      "metadata": {
        "trusted": true
      },
      "outputs": [],
      "execution_count": 24
    },
    {
      "cell_type": "code",
      "source": "",
      "metadata": {
        "trusted": true
      },
      "outputs": [],
      "execution_count": null
    },
    {
      "cell_type": "code",
      "source": "",
      "metadata": {
        "trusted": true
      },
      "outputs": [],
      "execution_count": null
    },
    {
      "cell_type": "markdown",
      "source": "After you plot distance lines to the proximities, you can answer the following questions easily:\n\n*   Are launch sites in close proximity to railways?\n*   Are launch sites in close proximity to highways?\n*   Are launch sites in close proximity to coastline?\n*   Do launch sites keep certain distance away from cities?\n\nAlso please try to explain your findings.\n",
      "metadata": {}
    },
    {
      "cell_type": "markdown",
      "source": "# Next Steps:\n\nNow you have discovered many interesting insights related to the launch sites' location using folium, in a very interactive way. Next, you will need to build a dashboard using Ploty Dash on detailed launch records.\n",
      "metadata": {}
    },
    {
      "cell_type": "markdown",
      "source": "## Authors\n",
      "metadata": {}
    },
    {
      "cell_type": "markdown",
      "source": "[Pratiksha Verma](https://www.linkedin.com/in/pratiksha-verma-6487561b1/)\n",
      "metadata": {}
    },
    {
      "cell_type": "markdown",
      "source": "<!--## Change Log--!>\n",
      "metadata": {}
    },
    {
      "cell_type": "markdown",
      "source": "<!--| Date (YYYY-MM-DD) | Version | Changed By      | Change Description      |\n| ----------------- | ------- | -------------   | ----------------------- |\n| 2022-11-09        | 1.0     | Pratiksha Verma | Converted initial version to Jupyterlite|--!>\n",
      "metadata": {}
    },
    {
      "cell_type": "markdown",
      "source": "### <h3 align=\"center\"> IBM Corporation 2022. All rights reserved. <h3/>\n",
      "metadata": {}
    }
  ]
}